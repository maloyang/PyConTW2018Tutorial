{
 "cells": [
  {
   "cell_type": "markdown",
   "metadata": {},
   "source": [
    "# requests 及 beautifulsoup 模組的使用教學"
   ]
  },
  {
   "cell_type": "markdown",
   "metadata": {},
   "source": [
    "## 學習重點：\n",
    "\n",
    "* 使用 requests 來抓取網頁資料\n",
    "  - 學習使用不同的 http method 來抓取資料\n",
    "* 使用 BeautifulSoup 來剖析網頁資料\n",
    "  - 學習使用 css selector 來剖析特定頁簽的資料"
   ]
  },
  {
   "cell_type": "markdown",
   "metadata": {},
   "source": [
    "## 載入需要的模組"
   ]
  },
  {
   "cell_type": "code",
   "execution_count": 1,
   "metadata": {},
   "outputs": [],
   "source": [
    "# 載入需要的套件\n",
    "import requests\n",
    "from bs4 import BeautifulSoup"
   ]
  },
  {
   "cell_type": "markdown",
   "metadata": {},
   "source": [
    "## 讀取網頁原始碼"
   ]
  },
  {
   "cell_type": "code",
   "execution_count": 2,
   "metadata": {},
   "outputs": [
    {
     "data": {
      "text/plain": [
       "'<!doctype html>\\n<html>\\n<head>\\n    <title>Example Domain</title>\\n\\n    <meta charset=\"utf-8\" />\\n    <meta http-equiv=\"Content-type\" content=\"text/html; charset=utf-8\" />\\n    <meta name=\"viewport\" content=\"width=device-width, initial-scale=1\" />\\n    <style type=\"text/css\">\\n    body {\\n        background-color: #f0f0f2;\\n        margin: 0;\\n        padding: 0;\\n        font-family: \"Open Sans\", \"Helvetica Neue\", Helvetica, Arial, sans-serif;\\n        \\n    }\\n    div {\\n        width: 600px;\\n        margin: 5em auto;\\n        padding: 50px;\\n        background-color: #fff;\\n        border-radius: 1em;\\n    }\\n    a:link, a:visited {\\n        color: #38488f;\\n        text-decoration: none;\\n    }\\n    @media (max-width: 700px) {\\n        body {\\n            background-color: #fff;\\n        }\\n        div {\\n            width: auto;\\n            margin: 0 auto;\\n            border-radius: 0;\\n            padding: 1em;\\n        }\\n    }\\n    </style>    \\n</head>\\n\\n<body>\\n<div>\\n    <h1>Example Domain</h1>\\n    <p>This domain is established to be used for illustrative examples in documents. You may use this\\n    domain in examples without prior coordination or asking for permission.</p>\\n    <p><a href=\"http://www.iana.org/domains/example\">More information...</a></p>\\n</div>\\n</body>\\n</html>\\n'"
      ]
     },
     "execution_count": 2,
     "metadata": {},
     "output_type": "execute_result"
    }
   ],
   "source": [
    "url = 'http://example.com/'\n",
    "r = requests.get(url)\n",
    "r.text"
   ]
  },
  {
   "cell_type": "markdown",
   "metadata": {},
   "source": [
    "## 讓輸出更好看一點"
   ]
  },
  {
   "cell_type": "code",
   "execution_count": 3,
   "metadata": {},
   "outputs": [
    {
     "name": "stdout",
     "output_type": "stream",
     "text": [
      "('<!doctype html>\\n'\n",
      " '<html>\\n'\n",
      " '<head>\\n'\n",
      " '    <title>Example Domain</title>\\n'\n",
      " '\\n'\n",
      " '    <meta charset=\"utf-8\" />\\n'\n",
      " '    <meta http-equiv=\"Content-type\" content=\"text/html; charset=utf-8\" />\\n'\n",
      " '    <meta name=\"viewport\" content=\"width=device-width, initial-scale=1\" />\\n'\n",
      " '    <style type=\"text/css\">\\n'\n",
      " '    body {\\n'\n",
      " '        background-color: #f0f0f2;\\n'\n",
      " '        margin: 0;\\n'\n",
      " '        padding: 0;\\n'\n",
      " '        font-family: \"Open Sans\", \"Helvetica Neue\", Helvetica, Arial, '\n",
      " 'sans-serif;\\n'\n",
      " '        \\n'\n",
      " '    }\\n'\n",
      " '    div {\\n'\n",
      " '        width: 600px;\\n'\n",
      " '        margin: 5em auto;\\n'\n",
      " '        padding: 50px;\\n'\n",
      " '        background-color: #fff;\\n'\n",
      " '        border-radius: 1em;\\n'\n",
      " '    }\\n'\n",
      " '    a:link, a:visited {\\n'\n",
      " '        color: #38488f;\\n'\n",
      " '        text-decoration: none;\\n'\n",
      " '    }\\n'\n",
      " '    @media (max-width: 700px) {\\n'\n",
      " '        body {\\n'\n",
      " '            background-color: #fff;\\n'\n",
      " '        }\\n'\n",
      " '        div {\\n'\n",
      " '            width: auto;\\n'\n",
      " '            margin: 0 auto;\\n'\n",
      " '            border-radius: 0;\\n'\n",
      " '            padding: 1em;\\n'\n",
      " '        }\\n'\n",
      " '    }\\n'\n",
      " '    </style>    \\n'\n",
      " '</head>\\n'\n",
      " '\\n'\n",
      " '<body>\\n'\n",
      " '<div>\\n'\n",
      " '    <h1>Example Domain</h1>\\n'\n",
      " '    <p>This domain is established to be used for illustrative examples in '\n",
      " 'documents. You may use this\\n'\n",
      " '    domain in examples without prior coordination or asking for '\n",
      " 'permission.</p>\\n'\n",
      " '    <p><a href=\"http://www.iana.org/domains/example\">More '\n",
      " 'information...</a></p>\\n'\n",
      " '</div>\\n'\n",
      " '</body>\\n'\n",
      " '</html>\\n')\n"
     ]
    }
   ],
   "source": [
    "import pprint\n",
    "pp = pprint.PrettyPrinter(indent=4)\n",
    "pp.pprint(r.text)"
   ]
  },
  {
   "cell_type": "markdown",
   "metadata": {},
   "source": [
    "## 使用 beautifulsoup 剖析 html 原始碼"
   ]
  },
  {
   "cell_type": "code",
   "execution_count": 4,
   "metadata": {},
   "outputs": [
    {
     "data": {
      "text/plain": [
       "'This domain is established to be used for illustrative examples in documents. You may use this\\n    domain in examples without prior coordination or asking for permission.'"
      ]
     },
     "execution_count": 4,
     "metadata": {},
     "output_type": "execute_result"
    }
   ],
   "source": [
    "soup = BeautifulSoup(r.text, 'lxml')\n",
    "soup.select('body div p')[0].text"
   ]
  },
  {
   "cell_type": "markdown",
   "metadata": {},
   "source": [
    "## 使用 Requests + BeautifulSoup 抓取新聞文章"
   ]
  },
  {
   "cell_type": "code",
   "execution_count": 5,
   "metadata": {},
   "outputs": [],
   "source": [
    "url = 'https://news.cnyes.com/news/id/3949102'"
   ]
  },
  {
   "cell_type": "code",
   "execution_count": 6,
   "metadata": {},
   "outputs": [],
   "source": [
    "r = requests.get(url)"
   ]
  },
  {
   "cell_type": "code",
   "execution_count": 7,
   "metadata": {},
   "outputs": [],
   "source": [
    "soup = BeautifulSoup(r.text, 'lxml')"
   ]
  },
  {
   "cell_type": "code",
   "execution_count": 8,
   "metadata": {},
   "outputs": [
    {
     "data": {
      "text/plain": [
       "'美股指數期貨週四（26 日）走勢相對平淡，投資人聚焦另一系列大型企業財報數字。道瓊工業平均指數期貨上漲 43\\xa0點，標普 500 指數期貨與那斯達克 100 指數期貨分別上漲 3.00\\xa0點與下跌 2.00\\xa0點。\\n推特（Twitter）、福特（Ford）、西南航空（Southwest Airlines）與有線電視及寬頻網絡等供應商康卡斯特（Comcast）等皆於盤前公佈上季財報。其中，推特財報表現優於市場預期，推升股價盤前大漲超過 10% ，福特上季獲利同樣超出華爾街預期，股價盤前上漲 1.5% 。\\n科技界財報重頭戲也即將展開，包括亞馬遜、 Google 母公司\\xa0Alphabet 、英特爾與微軟等，預計於週四美股盤後公佈上季財報數字。\\n央行同時也是週四國際市場的重點，投資人聚焦歐洲央行（European Central Bank）貨幣政策決議，與美國聯準會（U.S. Federal Reserve）下屆主席人選的消息。\\n根據《路透社》近期公佈市場調查，較多的經濟學家預期聯準會理事鮑爾（Jerome Powell）將成為下屆聯準會主席。另外，投資人預期歐洲央行本次會議將宣佈，該央行將開始採取退出極度寬鬆貨幣政策的計畫。\\n'"
      ]
     },
     "execution_count": 8,
     "metadata": {},
     "output_type": "execute_result"
    }
   ],
   "source": [
    "soup.select('div[itemprop=\"articleBody\"]')[0].text"
   ]
  },
  {
   "cell_type": "markdown",
   "metadata": {},
   "source": [
    "## 【練習】\n",
    "\n",
    "請抓取底下 url 的新聞文章。"
   ]
  },
  {
   "cell_type": "code",
   "execution_count": 9,
   "metadata": {},
   "outputs": [],
   "source": [
    "url = 'https://tw.finance.appledaily.com/realtime/20180121/1283033/'"
   ]
  },
  {
   "cell_type": "markdown",
   "metadata": {},
   "source": [
    "## 【進階】"
   ]
  },
  {
   "cell_type": "markdown",
   "metadata": {},
   "source": [
    "參考：[[爬蟲實戰] 如何告訴PTT我已滿18並順利抓取八卦版的文章 ?](http://largitdata.com/course/46/)"
   ]
  },
  {
   "cell_type": "code",
   "execution_count": 10,
   "metadata": {},
   "outputs": [
    {
     "name": "stderr",
     "output_type": "stream",
     "text": [
      "C:\\Users\\Malo\\Anaconda3\\lib\\site-packages\\urllib3\\connectionpool.py:857: InsecureRequestWarning: Unverified HTTPS request is being made. Adding certificate verification is strongly advised. See: https://urllib3.readthedocs.io/en/latest/advanced-usage.html#ssl-warnings\n",
      "  InsecureRequestWarning)\n",
      "C:\\Users\\Malo\\Anaconda3\\lib\\site-packages\\urllib3\\connectionpool.py:857: InsecureRequestWarning: Unverified HTTPS request is being made. Adding certificate verification is strongly advised. See: https://urllib3.readthedocs.io/en/latest/advanced-usage.html#ssl-warnings\n",
      "  InsecureRequestWarning)\n",
      "C:\\Users\\Malo\\Anaconda3\\lib\\site-packages\\urllib3\\connectionpool.py:857: InsecureRequestWarning: Unverified HTTPS request is being made. Adding certificate verification is strongly advised. See: https://urllib3.readthedocs.io/en/latest/advanced-usage.html#ssl-warnings\n",
      "  InsecureRequestWarning)\n"
     ]
    },
    {
     "name": "stdout",
     "output_type": "stream",
     "text": [
      " 8/27 tamama000 \n",
      "Re: [新聞] 21歲男月薪33k 女友:五萬才嫁\n",
      "\n",
      " 8/27 crashonU \n",
      "[新聞] 台韓身價差4億　韓網：沒想到會輸給銀行\n",
      "\n",
      " 8/27 Mohism \n",
      "[問卦] 南部宮廟每年繞境為何還會淹水?\n",
      "\n",
      " 8/27 norfinway \n",
      "[問卦] 佛地魔分靈體為啥不隨便找顆石頭\n",
      "\n",
      " 8/27 abc115 \n",
      "[問卦] 筆電一片灰怎麼辦\n",
      "\n",
      " 8/27 oz5566 \n",
      "[問卦] 台語算是落後語言嗎\n",
      "\n",
      " 8/27 BleedWang \n",
      "[舊聞]陸小芬夫陳俊源被控以暴利詐財　吸金逾5\n",
      "\n",
      " 8/27 lio226 \n",
      "Re: [新聞] 陳沂罵志願役「廢物」 國防部怒告！\n",
      "\n",
      " 8/27 Niixtion \n",
      "[問卦] 以前有一款可以全裸的線上遊戲\n",
      "\n",
      " 8/27 biach4300736 \n",
      "Re: [問卦] 跟洋妞%%%%感覺是啥\n",
      "\n",
      " 8/27 sleepyuan \n",
      "[問卦] 為什麼一堆人搶在今天登記結婚???\n",
      "\n",
      " 8/27 sylvia0915 \n",
      "[新聞] 女大生撞阿婆遭求償36萬！兒：我媽闖紅燈\n",
      "\n",
      " 8/27 japanx \n",
      "[問卦] 有沒有文青女神Hebe的八卦?\n",
      "\n",
      " 8/27 klyuch \n",
      "Re: [新聞] 新新住民來了！外配歸化後離婚，再與外國人結婚\n",
      "\n",
      " 8/27 megabio \n",
      "Re: [新聞] 台灣首次安樂死公投 衝連署書拚年底大選\n",
      "\n",
      " 8/27 bill0205 \n",
      "Re: [新聞] 拒簽東奧正名連署 柯Ｐ:討厭被脅迫表達意\n",
      "\n",
      " 8/27 myIDis7 \n",
      "[問卦] 愛家公投好像沒什麼討論聲調\n",
      "\n",
      " 8/27 yun54272 \n",
      "Re: [新聞] 陳沂罵志願役「廢物」 國防部怒告！\n",
      "\n",
      " 8/27 su5zi6 \n",
      "Fw: [新聞] 小熊買下恐同猛將 同性戀球迷憤怒！\n",
      "\n",
      " 8/27 iamfenixsc \n",
      "[爆卦] 中華台北 贏 巴基斯坦\n",
      "\n",
      "11/11 Kay731 \n",
      "[公告] 八卦板板規(2017.11.11)\n",
      "\n",
      " 7/31 RandyMarsh \n",
      "[公告] 八月份置底閒聊文\n",
      "\n",
      " 8/25 breadbear \n",
      "[協尋] 8/24清晨岡山嘉新東路行車記錄器\n",
      "\n",
      " 8/23 donghey \n",
      "[協尋] 8/23朋友姨丈搭公車失蹤尋人\n",
      "\n",
      " 8/23 jack455161 \n",
      "[協尋] 8/23新北市新店區中興路一段93號\n",
      "\n"
     ]
    }
   ],
   "source": [
    "payload = {\n",
    "    'from':'/bbs/Gossiping/index.html',\n",
    "    'yes':'yes'\n",
    "}\n",
    "rs = requests.session()\n",
    "res = rs.post('https://www.ptt.cc/ask/over18', verify=False, data=payload)\n",
    "res = rs.get('https://www.ptt.cc/bbs/Gossiping/index.html', verify=False)\n",
    "soup = BeautifulSoup(res.text, 'lxml')\n",
    "for entry in soup.select('.r-ent'):\n",
    "    print(entry.select('.date')[0].text, entry.select('.author')[0].text, entry.select('.title')[0].text)"
   ]
  },
  {
   "cell_type": "code",
   "execution_count": null,
   "metadata": {},
   "outputs": [],
   "source": []
  }
 ],
 "metadata": {
  "kernelspec": {
   "display_name": "Python 3",
   "language": "python",
   "name": "python3"
  },
  "language_info": {
   "codemirror_mode": {
    "name": "ipython",
    "version": 3
   },
   "file_extension": ".py",
   "mimetype": "text/x-python",
   "name": "python",
   "nbconvert_exporter": "python",
   "pygments_lexer": "ipython3",
   "version": "3.6.6"
  }
 },
 "nbformat": 4,
 "nbformat_minor": 2
}
