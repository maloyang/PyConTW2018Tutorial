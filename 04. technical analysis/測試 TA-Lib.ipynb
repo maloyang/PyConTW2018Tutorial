{
 "cells": [
  {
   "cell_type": "code",
   "execution_count": 1,
   "metadata": {},
   "outputs": [],
   "source": [
    "%matplotlib inline"
   ]
  },
  {
   "cell_type": "code",
   "execution_count": 2,
   "metadata": {},
   "outputs": [],
   "source": [
    "import talib"
   ]
  },
  {
   "cell_type": "code",
   "execution_count": 4,
   "metadata": {},
   "outputs": [],
   "source": [
    "# 網路上有人提到在使用pandas_datareader前加入這一行，果然可以\n",
    "# ref: https://stackoverflow.com/questions/50394873/import-pandas-datareader-gives-importerror-cannot-import-name-is-list-like\n",
    "import pandas as pd\n",
    "pd.core.common.is_list_like = pd.api.types.is_list_like\n",
    "\n",
    "import pandas_datareader.data as web\n",
    "from datetime import datetime"
   ]
  },
  {
   "cell_type": "code",
   "execution_count": null,
   "metadata": {},
   "outputs": [],
   "source": [
    "df = web.DataReader('TSLA', 'google', datetime(2016, 1, 1))"
   ]
  },
  {
   "cell_type": "code",
   "execution_count": 7,
   "metadata": {},
   "outputs": [],
   "source": [
    "# 改個方式讀股價\n",
    "\n",
    "import sys\n",
    "sys.path.append(\"../modules\")\n",
    "\n",
    "import pandas as pd\n",
    "pd.core.common.is_list_like = pd.api.types.is_list_like\n",
    "\n",
    "import ffn\n",
    "\n",
    "%matplotlib inline\n",
    "\n",
    "from pandas import Series, DataFrame\n",
    "import numpy as np\n",
    "\n",
    "from datetime import datetime\n",
    "import crawler\n",
    "\n",
    "df = crawler.get_quotes(\"FSLR\", datetime(2016,1,1))"
   ]
  },
  {
   "cell_type": "code",
   "execution_count": 8,
   "metadata": {},
   "outputs": [
    {
     "data": {
      "text/html": [
       "<div>\n",
       "<style scoped>\n",
       "    .dataframe tbody tr th:only-of-type {\n",
       "        vertical-align: middle;\n",
       "    }\n",
       "\n",
       "    .dataframe tbody tr th {\n",
       "        vertical-align: top;\n",
       "    }\n",
       "\n",
       "    .dataframe thead th {\n",
       "        text-align: right;\n",
       "    }\n",
       "</style>\n",
       "<table border=\"1\" class=\"dataframe\">\n",
       "  <thead>\n",
       "    <tr style=\"text-align: right;\">\n",
       "      <th></th>\n",
       "      <th>Open</th>\n",
       "      <th>High</th>\n",
       "      <th>Low</th>\n",
       "      <th>Close</th>\n",
       "      <th>Adj Close</th>\n",
       "      <th>Volume</th>\n",
       "    </tr>\n",
       "    <tr>\n",
       "      <th>Date</th>\n",
       "      <th></th>\n",
       "      <th></th>\n",
       "      <th></th>\n",
       "      <th></th>\n",
       "      <th></th>\n",
       "      <th></th>\n",
       "    </tr>\n",
       "  </thead>\n",
       "  <tbody>\n",
       "    <tr>\n",
       "      <th>2016-01-04</th>\n",
       "      <td>64.709999</td>\n",
       "      <td>66.760002</td>\n",
       "      <td>64.099998</td>\n",
       "      <td>66.720001</td>\n",
       "      <td>66.720001</td>\n",
       "      <td>2126900</td>\n",
       "    </tr>\n",
       "    <tr>\n",
       "      <th>2016-01-05</th>\n",
       "      <td>70.559998</td>\n",
       "      <td>72.120003</td>\n",
       "      <td>70.110001</td>\n",
       "      <td>72.029999</td>\n",
       "      <td>72.029999</td>\n",
       "      <td>6385400</td>\n",
       "    </tr>\n",
       "    <tr>\n",
       "      <th>2016-01-06</th>\n",
       "      <td>71.000000</td>\n",
       "      <td>71.449997</td>\n",
       "      <td>68.419998</td>\n",
       "      <td>69.519997</td>\n",
       "      <td>69.519997</td>\n",
       "      <td>2947100</td>\n",
       "    </tr>\n",
       "    <tr>\n",
       "      <th>2016-01-07</th>\n",
       "      <td>67.639999</td>\n",
       "      <td>68.699997</td>\n",
       "      <td>65.349998</td>\n",
       "      <td>66.220001</td>\n",
       "      <td>66.220001</td>\n",
       "      <td>4091000</td>\n",
       "    </tr>\n",
       "    <tr>\n",
       "      <th>2016-01-08</th>\n",
       "      <td>67.430000</td>\n",
       "      <td>67.949997</td>\n",
       "      <td>64.730003</td>\n",
       "      <td>65.620003</td>\n",
       "      <td>65.620003</td>\n",
       "      <td>3035700</td>\n",
       "    </tr>\n",
       "  </tbody>\n",
       "</table>\n",
       "</div>"
      ],
      "text/plain": [
       "                 Open       High        Low      Close  Adj Close   Volume\n",
       "Date                                                                      \n",
       "2016-01-04  64.709999  66.760002  64.099998  66.720001  66.720001  2126900\n",
       "2016-01-05  70.559998  72.120003  70.110001  72.029999  72.029999  6385400\n",
       "2016-01-06  71.000000  71.449997  68.419998  69.519997  69.519997  2947100\n",
       "2016-01-07  67.639999  68.699997  65.349998  66.220001  66.220001  4091000\n",
       "2016-01-08  67.430000  67.949997  64.730003  65.620003  65.620003  3035700"
      ]
     },
     "execution_count": 8,
     "metadata": {},
     "output_type": "execute_result"
    }
   ],
   "source": [
    "df.head()"
   ]
  },
  {
   "cell_type": "code",
   "execution_count": 9,
   "metadata": {},
   "outputs": [],
   "source": [
    "from talib import MA_Type\n",
    "\n",
    "upper, middle, lower = talib.BBANDS(df['Close'].values, matype=MA_Type.T3)"
   ]
  },
  {
   "cell_type": "code",
   "execution_count": 10,
   "metadata": {},
   "outputs": [],
   "source": [
    "df['BBU'] = upper"
   ]
  },
  {
   "cell_type": "code",
   "execution_count": 11,
   "metadata": {},
   "outputs": [],
   "source": [
    "df['BBM'] = middle"
   ]
  },
  {
   "cell_type": "code",
   "execution_count": 12,
   "metadata": {},
   "outputs": [],
   "source": [
    "df['BBL'] = lower"
   ]
  },
  {
   "cell_type": "code",
   "execution_count": 13,
   "metadata": {},
   "outputs": [
    {
     "data": {
      "text/plain": [
       "<matplotlib.axes._subplots.AxesSubplot at 0x1801a10>"
      ]
     },
     "execution_count": 13,
     "metadata": {},
     "output_type": "execute_result"
    },
    {
     "data": {
      "image/png": "[encoded data removed]",
      "text/plain": [
       "<Figure size 432x288 with 1 Axes>"
      ]
     },
     "metadata": {},
     "output_type": "display_data"
    }
   ],
   "source": [
    "df[['Close', 'BBU', 'BBM', 'BBL']][-100:].plot(legend='Best')"
   ]
  },
  {
   "cell_type": "code",
   "execution_count": null,
   "metadata": {},
   "outputs": [],
   "source": []
  }
 ],
 "metadata": {
  "kernelspec": {
   "display_name": "Python 3",
   "language": "python",
   "name": "python3"
  },
  "language_info": {
   "codemirror_mode": {
    "name": "ipython",
    "version": 3
   },
   "file_extension": ".py",
   "mimetype": "text/x-python",
   "name": "python",
   "nbconvert_exporter": "python",
   "pygments_lexer": "ipython3",
   "version": "3.6.6"
  }
 },
 "nbformat": 4,
 "nbformat_minor": 2
}
