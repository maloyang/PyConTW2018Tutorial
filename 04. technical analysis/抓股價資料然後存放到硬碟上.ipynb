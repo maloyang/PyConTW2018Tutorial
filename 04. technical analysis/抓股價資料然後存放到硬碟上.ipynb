{
 "cells": [
  {
   "cell_type": "code",
   "execution_count": 1,
   "metadata": {},
   "outputs": [],
   "source": [
    "# 網路上有人提到在使用pandas_datareader前加入這一行，果然可以\n",
    "# ref: https://stackoverflow.com/questions/50394873/import-pandas-datareader-gives-importerror-cannot-import-name-is-list-like\n",
    "import pandas as pd\n",
    "pd.core.common.is_list_like = pd.api.types.is_list_like\n",
    "\n",
    "import pandas as pd\n",
    "import pandas_datareader.data as web\n",
    "from datetime import datetime"
   ]
  },
  {
   "cell_type": "code",
   "execution_count": 2,
   "metadata": {},
   "outputs": [],
   "source": [
    "# 取得公司資料\n",
    "def get_companies(ex = \"NASDAQ\"):\n",
    "    template = \"http://www.nasdaq.com/screening/companies-by-industry.aspx?exchange={}&render=download\"\n",
    "    url = template.format(ex)\n",
    "    return pd.read_csv(url)"
   ]
  },
  {
   "cell_type": "code",
   "execution_count": 3,
   "metadata": {},
   "outputs": [],
   "source": [
    "df = get_companies()"
   ]
  },
  {
   "cell_type": "code",
   "execution_count": 4,
   "metadata": {},
   "outputs": [
    {
     "data": {
      "text/html": [
       "<div>\n",
       "<style scoped>\n",
       "    .dataframe tbody tr th:only-of-type {\n",
       "        vertical-align: middle;\n",
       "    }\n",
       "\n",
       "    .dataframe tbody tr th {\n",
       "        vertical-align: top;\n",
       "    }\n",
       "\n",
       "    .dataframe thead th {\n",
       "        text-align: right;\n",
       "    }\n",
       "</style>\n",
       "<table border=\"1\" class=\"dataframe\">\n",
       "  <thead>\n",
       "    <tr style=\"text-align: right;\">\n",
       "      <th></th>\n",
       "      <th>Symbol</th>\n",
       "      <th>Name</th>\n",
       "      <th>LastSale</th>\n",
       "      <th>MarketCap</th>\n",
       "      <th>ADR TSO</th>\n",
       "      <th>IPOyear</th>\n",
       "      <th>Sector</th>\n",
       "      <th>Industry</th>\n",
       "      <th>Summary Quote</th>\n",
       "      <th>Unnamed: 9</th>\n",
       "    </tr>\n",
       "  </thead>\n",
       "  <tbody>\n",
       "    <tr>\n",
       "      <th>0</th>\n",
       "      <td>PIH</td>\n",
       "      <td>1347 Property Insurance Holdings, Inc.</td>\n",
       "      <td>7.050</td>\n",
       "      <td>4.219260e+07</td>\n",
       "      <td>NaN</td>\n",
       "      <td>2014.0</td>\n",
       "      <td>Finance</td>\n",
       "      <td>Property-Casualty Insurers</td>\n",
       "      <td>https://www.nasdaq.com/symbol/pih</td>\n",
       "      <td>NaN</td>\n",
       "    </tr>\n",
       "    <tr>\n",
       "      <th>1</th>\n",
       "      <td>PIHPP</td>\n",
       "      <td>1347 Property Insurance Holdings, Inc.</td>\n",
       "      <td>25.750</td>\n",
       "      <td>0.000000e+00</td>\n",
       "      <td>NaN</td>\n",
       "      <td>NaN</td>\n",
       "      <td>Finance</td>\n",
       "      <td>Property-Casualty Insurers</td>\n",
       "      <td>https://www.nasdaq.com/symbol/pihpp</td>\n",
       "      <td>NaN</td>\n",
       "    </tr>\n",
       "    <tr>\n",
       "      <th>2</th>\n",
       "      <td>TURN</td>\n",
       "      <td>180 Degree Capital Corp.</td>\n",
       "      <td>2.380</td>\n",
       "      <td>7.406932e+07</td>\n",
       "      <td>NaN</td>\n",
       "      <td>NaN</td>\n",
       "      <td>Finance</td>\n",
       "      <td>Finance/Investors Services</td>\n",
       "      <td>https://www.nasdaq.com/symbol/turn</td>\n",
       "      <td>NaN</td>\n",
       "    </tr>\n",
       "    <tr>\n",
       "      <th>3</th>\n",
       "      <td>FLWS</td>\n",
       "      <td>1-800 FLOWERS.COM, Inc.</td>\n",
       "      <td>12.525</td>\n",
       "      <td>8.091654e+08</td>\n",
       "      <td>NaN</td>\n",
       "      <td>1999.0</td>\n",
       "      <td>Consumer Services</td>\n",
       "      <td>Other Specialty Stores</td>\n",
       "      <td>https://www.nasdaq.com/symbol/flws</td>\n",
       "      <td>NaN</td>\n",
       "    </tr>\n",
       "    <tr>\n",
       "      <th>4</th>\n",
       "      <td>FCCY</td>\n",
       "      <td>1st Constitution Bancorp (NJ)</td>\n",
       "      <td>21.500</td>\n",
       "      <td>1.801559e+08</td>\n",
       "      <td>NaN</td>\n",
       "      <td>NaN</td>\n",
       "      <td>Finance</td>\n",
       "      <td>Savings Institutions</td>\n",
       "      <td>https://www.nasdaq.com/symbol/fccy</td>\n",
       "      <td>NaN</td>\n",
       "    </tr>\n",
       "  </tbody>\n",
       "</table>\n",
       "</div>"
      ],
      "text/plain": [
       "  Symbol                                    Name  LastSale     MarketCap  \\\n",
       "0    PIH  1347 Property Insurance Holdings, Inc.     7.050  4.219260e+07   \n",
       "1  PIHPP  1347 Property Insurance Holdings, Inc.    25.750  0.000000e+00   \n",
       "2   TURN                180 Degree Capital Corp.     2.380  7.406932e+07   \n",
       "3   FLWS                 1-800 FLOWERS.COM, Inc.    12.525  8.091654e+08   \n",
       "4   FCCY           1st Constitution Bancorp (NJ)    21.500  1.801559e+08   \n",
       "\n",
       "   ADR TSO  IPOyear             Sector                    Industry  \\\n",
       "0      NaN   2014.0            Finance  Property-Casualty Insurers   \n",
       "1      NaN      NaN            Finance  Property-Casualty Insurers   \n",
       "2      NaN      NaN            Finance  Finance/Investors Services   \n",
       "3      NaN   1999.0  Consumer Services      Other Specialty Stores   \n",
       "4      NaN      NaN            Finance        Savings Institutions   \n",
       "\n",
       "                         Summary Quote  Unnamed: 9  \n",
       "0    https://www.nasdaq.com/symbol/pih         NaN  \n",
       "1  https://www.nasdaq.com/symbol/pihpp         NaN  \n",
       "2   https://www.nasdaq.com/symbol/turn         NaN  \n",
       "3   https://www.nasdaq.com/symbol/flws         NaN  \n",
       "4   https://www.nasdaq.com/symbol/fccy         NaN  "
      ]
     },
     "execution_count": 4,
     "metadata": {},
     "output_type": "execute_result"
    }
   ],
   "source": [
    "df.head()"
   ]
  },
  {
   "cell_type": "code",
   "execution_count": 5,
   "metadata": {},
   "outputs": [],
   "source": [
    "computer_selected = df[(df['MarketCap'] > 3e8) & (df['MarketCap'] < 3.2e8)]['Symbol'].tolist()"
   ]
  },
  {
   "cell_type": "code",
   "execution_count": 6,
   "metadata": {},
   "outputs": [
    {
     "data": {
      "text/plain": [
       "38"
      ]
     },
     "execution_count": 6,
     "metadata": {},
     "output_type": "execute_result"
    }
   ],
   "source": [
    "len(computer_selected)"
   ]
  },
  {
   "cell_type": "code",
   "execution_count": 7,
   "metadata": {},
   "outputs": [],
   "source": [
    "self_selected = ['GOOG', 'YHOO', 'AAPL', 'TSLA', 'MSFT']"
   ]
  },
  {
   "cell_type": "code",
   "execution_count": 8,
   "metadata": {},
   "outputs": [],
   "source": [
    "candidates = computer_selected + self_selected"
   ]
  },
  {
   "cell_type": "code",
   "execution_count": 9,
   "metadata": {},
   "outputs": [],
   "source": [
    "candidates = set(candidates)"
   ]
  },
  {
   "cell_type": "code",
   "execution_count": 10,
   "metadata": {},
   "outputs": [],
   "source": [
    "candidates = list(candidates)"
   ]
  },
  {
   "cell_type": "code",
   "execution_count": 11,
   "metadata": {
    "collapsed": true
   },
   "outputs": [
    {
     "name": "stdout",
     "output_type": "stream",
     "text": [
      "Error accesing symbol: LOOP ==> ('\\nYahoo Daily has been immediately deprecated due to large breaks in the API without the\\nintroduction of a stable replacement. Pull Requests to re-enable these data\\nconnectors are welcome.\\n\\nSee https://github.com/pydata/pandas-datareader/issues\\n',)\n",
      "Error accesing symbol: TEDU ==> ('\\nYahoo Daily has been immediately deprecated due to large breaks in the API without the\\nintroduction of a stable replacement. Pull Requests to re-enable these data\\nconnectors are welcome.\\n\\nSee https://github.com/pydata/pandas-datareader/issues\\n',)\n",
      "Error accesing symbol: PDFS ==> ('\\nYahoo Daily has been immediately deprecated due to large breaks in the API without the\\nintroduction of a stable replacement. Pull Requests to re-enable these data\\nconnectors are welcome.\\n\\nSee https://github.com/pydata/pandas-datareader/issues\\n',)\n",
      "Error accesing symbol: NRIM ==> ('\\nYahoo Daily has been immediately deprecated due to large breaks in the API without the\\nintroduction of a stable replacement. Pull Requests to re-enable these data\\nconnectors are welcome.\\n\\nSee https://github.com/pydata/pandas-datareader/issues\\n',)\n",
      "Error accesing symbol: NHTC ==> ('\\nYahoo Daily has been immediately deprecated due to large breaks in the API without the\\nintroduction of a stable replacement. Pull Requests to re-enable these data\\nconnectors are welcome.\\n\\nSee https://github.com/pydata/pandas-datareader/issues\\n',)\n",
      "Error accesing symbol: SPOK ==> ('\\nYahoo Daily has been immediately deprecated due to large breaks in the API without the\\nintroduction of a stable replacement. Pull Requests to re-enable these data\\nconnectors are welcome.\\n\\nSee https://github.com/pydata/pandas-datareader/issues\\n',)\n",
      "Error accesing symbol: MRSN ==> ('\\nYahoo Daily has been immediately deprecated due to large breaks in the API without the\\nintroduction of a stable replacement. Pull Requests to re-enable these data\\nconnectors are welcome.\\n\\nSee https://github.com/pydata/pandas-datareader/issues\\n',)\n",
      "Error accesing symbol: BPOPN ==> ('\\nYahoo Daily has been immediately deprecated due to large breaks in the API without the\\nintroduction of a stable replacement. Pull Requests to re-enable these data\\nconnectors are welcome.\\n\\nSee https://github.com/pydata/pandas-datareader/issues\\n',)\n",
      "Error accesing symbol: FLDM ==> ('\\nYahoo Daily has been immediately deprecated due to large breaks in the API without the\\nintroduction of a stable replacement. Pull Requests to re-enable these data\\nconnectors are welcome.\\n\\nSee https://github.com/pydata/pandas-datareader/issues\\n',)\n",
      "Error accesing symbol: SMMF ==> ('\\nYahoo Daily has been immediately deprecated due to large breaks in the API without the\\nintroduction of a stable replacement. Pull Requests to re-enable these data\\nconnectors are welcome.\\n\\nSee https://github.com/pydata/pandas-datareader/issues\\n',)\n",
      "Error accesing symbol: MEIP ==> ('\\nYahoo Daily has been immediately deprecated due to large breaks in the API without the\\nintroduction of a stable replacement. Pull Requests to re-enable these data\\nconnectors are welcome.\\n\\nSee https://github.com/pydata/pandas-datareader/issues\\n',)\n",
      "Error accesing symbol: DMRC ==> ('\\nYahoo Daily has been immediately deprecated due to large breaks in the API without the\\nintroduction of a stable replacement. Pull Requests to re-enable these data\\nconnectors are welcome.\\n\\nSee https://github.com/pydata/pandas-datareader/issues\\n',)\n",
      "Error accesing symbol: OSIR ==> ('\\nYahoo Daily has been immediately deprecated due to large breaks in the API without the\\nintroduction of a stable replacement. Pull Requests to re-enable these data\\nconnectors are welcome.\\n\\nSee https://github.com/pydata/pandas-datareader/issues\\n',)\n",
      "Error accesing symbol: INBK ==> ('\\nYahoo Daily has been immediately deprecated due to large breaks in the API without the\\nintroduction of a stable replacement. Pull Requests to re-enable these data\\nconnectors are welcome.\\n\\nSee https://github.com/pydata/pandas-datareader/issues\\n',)\n",
      "Error accesing symbol: RNET ==> ('\\nYahoo Daily has been immediately deprecated due to large breaks in the API without the\\nintroduction of a stable replacement. Pull Requests to re-enable these data\\nconnectors are welcome.\\n\\nSee https://github.com/pydata/pandas-datareader/issues\\n',)\n",
      "Error accesing symbol: MGTX ==> ('\\nYahoo Daily has been immediately deprecated due to large breaks in the API without the\\nintroduction of a stable replacement. Pull Requests to re-enable these data\\nconnectors are welcome.\\n\\nSee https://github.com/pydata/pandas-datareader/issues\\n',)\n",
      "Error accesing symbol: SPKE ==> ('\\nYahoo Daily has been immediately deprecated due to large breaks in the API without the\\nintroduction of a stable replacement. Pull Requests to re-enable these data\\nconnectors are welcome.\\n\\nSee https://github.com/pydata/pandas-datareader/issues\\n',)\n",
      "Error accesing symbol: TSLA ==> ('\\nYahoo Daily has been immediately deprecated due to large breaks in the API without the\\nintroduction of a stable replacement. Pull Requests to re-enable these data\\nconnectors are welcome.\\n\\nSee https://github.com/pydata/pandas-datareader/issues\\n',)\n",
      "Error accesing symbol: AVEO ==> ('\\nYahoo Daily has been immediately deprecated due to large breaks in the API without the\\nintroduction of a stable replacement. Pull Requests to re-enable these data\\nconnectors are welcome.\\n\\nSee https://github.com/pydata/pandas-datareader/issues\\n',)\n",
      "Error accesing symbol: POPE ==> ('\\nYahoo Daily has been immediately deprecated due to large breaks in the API without the\\nintroduction of a stable replacement. Pull Requests to re-enable these data\\nconnectors are welcome.\\n\\nSee https://github.com/pydata/pandas-datareader/issues\\n',)\n",
      "Error accesing symbol: CMTA ==> ('\\nYahoo Daily has been immediately deprecated due to large breaks in the API without the\\nintroduction of a stable replacement. Pull Requests to re-enable these data\\nconnectors are welcome.\\n\\nSee https://github.com/pydata/pandas-datareader/issues\\n',)\n",
      "Error accesing symbol: MSFT ==> ('\\nYahoo Daily has been immediately deprecated due to large breaks in the API without the\\nintroduction of a stable replacement. Pull Requests to re-enable these data\\nconnectors are welcome.\\n\\nSee https://github.com/pydata/pandas-datareader/issues\\n',)\n",
      "Error accesing symbol: CDZI ==> ('\\nYahoo Daily has been immediately deprecated due to large breaks in the API without the\\nintroduction of a stable replacement. Pull Requests to re-enable these data\\nconnectors are welcome.\\n\\nSee https://github.com/pydata/pandas-datareader/issues\\n',)\n",
      "Error accesing symbol: FIXD ==> ('\\nYahoo Daily has been immediately deprecated due to large breaks in the API without the\\nintroduction of a stable replacement. Pull Requests to re-enable these data\\nconnectors are welcome.\\n\\nSee https://github.com/pydata/pandas-datareader/issues\\n',)\n",
      "Error accesing symbol: AUDC ==> ('\\nYahoo Daily has been immediately deprecated due to large breaks in the API without the\\nintroduction of a stable replacement. Pull Requests to re-enable these data\\nconnectors are welcome.\\n\\nSee https://github.com/pydata/pandas-datareader/issues\\n',)\n",
      "Error accesing symbol: PCB ==> ('\\nYahoo Daily has been immediately deprecated due to large breaks in the API without the\\nintroduction of a stable replacement. Pull Requests to re-enable these data\\nconnectors are welcome.\\n\\nSee https://github.com/pydata/pandas-datareader/issues\\n',)\n",
      "Error accesing symbol: PFM ==> ('\\nYahoo Daily has been immediately deprecated due to large breaks in the API without the\\nintroduction of a stable replacement. Pull Requests to re-enable these data\\nconnectors are welcome.\\n\\nSee https://github.com/pydata/pandas-datareader/issues\\n',)\n",
      "Error accesing symbol: KALA ==> ('\\nYahoo Daily has been immediately deprecated due to large breaks in the API without the\\nintroduction of a stable replacement. Pull Requests to re-enable these data\\nconnectors are welcome.\\n\\nSee https://github.com/pydata/pandas-datareader/issues\\n',)\n",
      "Error accesing symbol: AAPL ==> ('\\nYahoo Daily has been immediately deprecated due to large breaks in the API without the\\nintroduction of a stable replacement. Pull Requests to re-enable these data\\nconnectors are welcome.\\n\\nSee https://github.com/pydata/pandas-datareader/issues\\n',)\n",
      "Error accesing symbol: SFST ==> ('\\nYahoo Daily has been immediately deprecated due to large breaks in the API without the\\nintroduction of a stable replacement. Pull Requests to re-enable these data\\nconnectors are welcome.\\n\\nSee https://github.com/pydata/pandas-datareader/issues\\n',)\n",
      "Error accesing symbol: GAIA ==> ('\\nYahoo Daily has been immediately deprecated due to large breaks in the API without the\\nintroduction of a stable replacement. Pull Requests to re-enable these data\\nconnectors are welcome.\\n\\nSee https://github.com/pydata/pandas-datareader/issues\\n',)\n",
      "Error accesing symbol: FSNN ==> ('\\nYahoo Daily has been immediately deprecated due to large breaks in the API without the\\nintroduction of a stable replacement. Pull Requests to re-enable these data\\nconnectors are welcome.\\n\\nSee https://github.com/pydata/pandas-datareader/issues\\n',)\n",
      "Error accesing symbol: CLAR ==> ('\\nYahoo Daily has been immediately deprecated due to large breaks in the API without the\\nintroduction of a stable replacement. Pull Requests to re-enable these data\\nconnectors are welcome.\\n\\nSee https://github.com/pydata/pandas-datareader/issues\\n',)\n",
      "Error accesing symbol: GOOG ==> ('\\nYahoo Daily has been immediately deprecated due to large breaks in the API without the\\nintroduction of a stable replacement. Pull Requests to re-enable these data\\nconnectors are welcome.\\n\\nSee https://github.com/pydata/pandas-datareader/issues\\n',)\n",
      "Error accesing symbol: IRMD ==> ('\\nYahoo Daily has been immediately deprecated due to large breaks in the API without the\\nintroduction of a stable replacement. Pull Requests to re-enable these data\\nconnectors are welcome.\\n\\nSee https://github.com/pydata/pandas-datareader/issues\\n',)\n",
      "Error accesing symbol: RBNC ==> ('\\nYahoo Daily has been immediately deprecated due to large breaks in the API without the\\nintroduction of a stable replacement. Pull Requests to re-enable these data\\nconnectors are welcome.\\n\\nSee https://github.com/pydata/pandas-datareader/issues\\n',)\n",
      "Error accesing symbol: CSWC ==> ('\\nYahoo Daily has been immediately deprecated due to large breaks in the API without the\\nintroduction of a stable replacement. Pull Requests to re-enable these data\\nconnectors are welcome.\\n\\nSee https://github.com/pydata/pandas-datareader/issues\\n',)\n",
      "Error accesing symbol: SMBK ==> ('\\nYahoo Daily has been immediately deprecated due to large breaks in the API without the\\nintroduction of a stable replacement. Pull Requests to re-enable these data\\nconnectors are welcome.\\n\\nSee https://github.com/pydata/pandas-datareader/issues\\n',)\n",
      "Error accesing symbol: USLV ==> ('\\nYahoo Daily has been immediately deprecated due to large breaks in the API without the\\nintroduction of a stable replacement. Pull Requests to re-enable these data\\nconnectors are welcome.\\n\\nSee https://github.com/pydata/pandas-datareader/issues\\n',)\n",
      "Error accesing symbol: BLCM ==> ('\\nYahoo Daily has been immediately deprecated due to large breaks in the API without the\\nintroduction of a stable replacement. Pull Requests to re-enable these data\\nconnectors are welcome.\\n\\nSee https://github.com/pydata/pandas-datareader/issues\\n',)\n",
      "Error accesing symbol: EGC ==> ('\\nYahoo Daily has been immediately deprecated due to large breaks in the API without the\\nintroduction of a stable replacement. Pull Requests to re-enable these data\\nconnectors are welcome.\\n\\nSee https://github.com/pydata/pandas-datareader/issues\\n',)\n",
      "Error accesing symbol: NVTR ==> ('\\nYahoo Daily has been immediately deprecated due to large breaks in the API without the\\nintroduction of a stable replacement. Pull Requests to re-enable these data\\nconnectors are welcome.\\n\\nSee https://github.com/pydata/pandas-datareader/issues\\n',)\n",
      "Error accesing symbol: YHOO ==> ('\\nYahoo Daily has been immediately deprecated due to large breaks in the API without the\\nintroduction of a stable replacement. Pull Requests to re-enable these data\\nconnectors are welcome.\\n\\nSee https://github.com/pydata/pandas-datareader/issues\\n',)\n"
     ]
    }
   ],
   "source": [
    "data = {}\n",
    "\n",
    "for symbol in candidates:\n",
    "    try:\n",
    "        data[symbol] = web.DataReader(symbol, 'yahoo', datetime(2016, 1, 1))\n",
    "    except Exception as e:\n",
    "        print(\"Error accesing symbol:\", symbol, \"==>\", e.args)"
   ]
  },
  {
   "cell_type": "code",
   "execution_count": 12,
   "metadata": {},
   "outputs": [
    {
     "name": "stdout",
     "output_type": "stream",
     "text": [
      "Error accesing symbol: YHOO ==> (\"name='B', domain=None, path=None\",)\n"
     ]
    }
   ],
   "source": [
    "# 改個方式讀股價\n",
    "\n",
    "import sys\n",
    "sys.path.append(\"../modules\")\n",
    "\n",
    "import pandas as pd\n",
    "pd.core.common.is_list_like = pd.api.types.is_list_like\n",
    "\n",
    "import ffn\n",
    "\n",
    "%matplotlib inline\n",
    "\n",
    "from pandas import Series, DataFrame\n",
    "import numpy as np\n",
    "\n",
    "from datetime import datetime\n",
    "import crawler\n",
    "\n",
    "data = {}\n",
    "\n",
    "for symbol in candidates:\n",
    "    try:\n",
    "        #data[symbol] = web.DataReader(symbol, 'yahoo', datetime(2016, 1, 1))\n",
    "        data[symbol] = crawler.get_quotes(symbol, datetime(2016,1,1))\n",
    "    except Exception as e:\n",
    "        print(\"Error accesing symbol:\", symbol, \"==>\", e.args)"
   ]
  },
  {
   "cell_type": "code",
   "execution_count": 13,
   "metadata": {},
   "outputs": [
    {
     "data": {
      "text/plain": [
       "42"
      ]
     },
     "execution_count": 13,
     "metadata": {},
     "output_type": "execute_result"
    }
   ],
   "source": [
    "# 看看有幾筆資料\n",
    "len(data.keys())"
   ]
  },
  {
   "cell_type": "markdown",
   "metadata": {},
   "source": [
    "## 將股票序列化並存成檔案"
   ]
  },
  {
   "cell_type": "code",
   "execution_count": 14,
   "metadata": {},
   "outputs": [],
   "source": [
    "import pickle\n",
    "\n",
    "with open('stockdata', 'wb') as f:\n",
    "    pickle.dump(data, file=f)"
   ]
  },
  {
   "cell_type": "markdown",
   "metadata": {},
   "source": [
    "## 將股票資料讀回來使用看看"
   ]
  },
  {
   "cell_type": "code",
   "execution_count": 15,
   "metadata": {},
   "outputs": [],
   "source": [
    "with open('stockdata', 'rb') as f:\n",
    "    stocks = pickle.load(file=f)"
   ]
  },
  {
   "cell_type": "code",
   "execution_count": 16,
   "metadata": {},
   "outputs": [
    {
     "data": {
      "text/plain": [
       "dict_keys(['LOOP', 'TEDU', 'PDFS', 'NRIM', 'NHTC', 'SPOK', 'MRSN', 'BPOPN', 'FLDM', 'SMMF', 'MEIP', 'DMRC', 'OSIR', 'INBK', 'RNET', 'MGTX', 'SPKE', 'TSLA', 'AVEO', 'POPE', 'CMTA', 'MSFT', 'CDZI', 'FIXD', 'AUDC', 'PCB', 'PFM', 'KALA', 'AAPL', 'SFST', 'GAIA', 'FSNN', 'CLAR', 'GOOG', 'IRMD', 'RBNC', 'CSWC', 'SMBK', 'USLV', 'BLCM', 'EGC', 'NVTR'])"
      ]
     },
     "execution_count": 16,
     "metadata": {},
     "output_type": "execute_result"
    }
   ],
   "source": [
    "stocks.keys()"
   ]
  },
  {
   "cell_type": "code",
   "execution_count": 17,
   "metadata": {},
   "outputs": [
    {
     "data": {
      "text/plain": [
       "<matplotlib.axes._subplots.AxesSubplot at 0xb321710>"
      ]
     },
     "execution_count": 17,
     "metadata": {},
     "output_type": "execute_result"
    },
    {
     "data": {
      "image/png": "[encoded data removed]",
      "text/plain": [
       "<Figure size 432x288 with 1 Axes>"
      ]
     },
     "metadata": {},
     "output_type": "display_data"
    }
   ],
   "source": [
    "%matplotlib inline\n",
    "stocks['GOOG']['Close'].plot()"
   ]
  },
  {
   "cell_type": "code",
   "execution_count": null,
   "metadata": {},
   "outputs": [],
   "source": []
  }
 ],
 "metadata": {
  "kernelspec": {
   "display_name": "Python 3",
   "language": "python",
   "name": "python3"
  },
  "language_info": {
   "codemirror_mode": {
    "name": "ipython",
    "version": 3
   },
   "file_extension": ".py",
   "mimetype": "text/x-python",
   "name": "python",
   "nbconvert_exporter": "python",
   "pygments_lexer": "ipython3",
   "version": "3.6.6"
  }
 },
 "nbformat": 4,
 "nbformat_minor": 2
}
