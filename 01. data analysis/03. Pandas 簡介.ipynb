{
 "cells": [
  {
   "cell_type": "markdown",
   "metadata": {
    "collapsed": true
   },
   "source": [
    "# Pandas 簡介"
   ]
  },
  {
   "cell_type": "markdown",
   "metadata": {},
   "source": [
    "## Pandas 是 Python 裡面被用來作資料分析及整理最常用的套件。"
   ]
  },
  {
   "cell_type": "markdown",
   "metadata": {},
   "source": [
    "### 這一份筆記主要說明以下重點：\n",
    "\n",
    "* 資料結構及其基本操作\n",
    "  - Series\n",
    "  - DataFrame\n",
    "* 網路資料存取\n",
    "* 資料視覺化\n",
    "* 資料分組及聚合\n",
    "\n",
    "參考資料：\n",
    "\n",
    "* [Python Data Analysis Library](http://pandas.pydata.org/)\n",
    "* [Pandas Cookbook](http://pandas.pydata.org/pandas-docs/version/0.18.0/cookbook.html)\n",
    "* [Pandas 入門介紹](https://github.com/Wei1234c/Introduction_to_Pandas)\n",
    "* [Financial Time Series](https://github.com/yhilpisch/py4fi/blob/master/ipython3/06_Financial_Time_Series.ipynb)\n",
    "* [Pandas API references](http://pandas.pydata.org/pandas-docs/stable/api.html#api-dataframe-stats)"
   ]
  },
  {
   "cell_type": "code",
   "execution_count": 1,
   "metadata": {},
   "outputs": [
    {
     "data": {
      "text/plain": [
       "'0.23.4'"
      ]
     },
     "execution_count": 1,
     "metadata": {},
     "output_type": "execute_result"
    }
   ],
   "source": [
    "import pandas as pd\n",
    "\n",
    "pd.__version__"
   ]
  },
  {
   "cell_type": "code",
   "execution_count": 2,
   "metadata": {},
   "outputs": [],
   "source": [
    "%matplotlib inline\n",
    "\n",
    "import numpy as np\n",
    "from datetime import datetime"
   ]
  },
  {
   "cell_type": "markdown",
   "metadata": {},
   "source": [
    "## Pandas 的資料結構"
   ]
  },
  {
   "cell_type": "markdown",
   "metadata": {},
   "source": [
    "### Series"
   ]
  },
  {
   "cell_type": "code",
   "execution_count": 3,
   "metadata": {},
   "outputs": [
    {
     "data": {
      "text/plain": [
       "0    1\n",
       "1    2\n",
       "2    3\n",
       "3    4\n",
       "4    5\n",
       "dtype: int64"
      ]
     },
     "execution_count": 3,
     "metadata": {},
     "output_type": "execute_result"
    }
   ],
   "source": [
    "s = pd.Series([1, 2, 3, 4, 5])\n",
    "s"
   ]
  },
  {
   "cell_type": "markdown",
   "metadata": {},
   "source": [
    "#### Series 跟 ndarray 有什麼不同呢？"
   ]
  },
  {
   "cell_type": "code",
   "execution_count": 4,
   "metadata": {},
   "outputs": [
    {
     "data": {
      "text/plain": [
       "array([1, 2, 3, 4, 5], dtype=int64)"
      ]
     },
     "execution_count": 4,
     "metadata": {},
     "output_type": "execute_result"
    }
   ],
   "source": [
    "s.values"
   ]
  },
  {
   "cell_type": "code",
   "execution_count": 5,
   "metadata": {},
   "outputs": [
    {
     "data": {
      "text/plain": [
       "RangeIndex(start=0, stop=5, step=1)"
      ]
     },
     "execution_count": 5,
     "metadata": {},
     "output_type": "execute_result"
    }
   ],
   "source": [
    "s.index"
   ]
  },
  {
   "cell_type": "markdown",
   "metadata": {},
   "source": [
    "#### index 可以在創建 Series 時指定"
   ]
  },
  {
   "cell_type": "code",
   "execution_count": 6,
   "metadata": {},
   "outputs": [],
   "source": [
    "s = pd.Series(range(5), index=list('abcde'))"
   ]
  },
  {
   "cell_type": "code",
   "execution_count": 7,
   "metadata": {},
   "outputs": [
    {
     "data": {
      "text/plain": [
       "a    0\n",
       "b    1\n",
       "c    2\n",
       "d    3\n",
       "e    4\n",
       "dtype: int64"
      ]
     },
     "execution_count": 7,
     "metadata": {},
     "output_type": "execute_result"
    }
   ],
   "source": [
    "s"
   ]
  },
  {
   "cell_type": "markdown",
   "metadata": {},
   "source": [
    "#### index 也可以在創建完 Series 後指定"
   ]
  },
  {
   "cell_type": "code",
   "execution_count": 8,
   "metadata": {},
   "outputs": [
    {
     "data": {
      "text/plain": [
       "f    0\n",
       "g    1\n",
       "h    2\n",
       "i    3\n",
       "j    4\n",
       "dtype: int64"
      ]
     },
     "execution_count": 8,
     "metadata": {},
     "output_type": "execute_result"
    }
   ],
   "source": [
    "s.index = list('fghij')\n",
    "s"
   ]
  },
  {
   "cell_type": "markdown",
   "metadata": {},
   "source": [
    "#### 什麼是 reindex？"
   ]
  },
  {
   "cell_type": "code",
   "execution_count": 9,
   "metadata": {},
   "outputs": [
    {
     "data": {
      "text/plain": [
       "h    2.0\n",
       "i    3.0\n",
       "j    4.0\n",
       "a    NaN\n",
       "b    NaN\n",
       "c    NaN\n",
       "d    NaN\n",
       "dtype: float64"
      ]
     },
     "execution_count": 9,
     "metadata": {},
     "output_type": "execute_result"
    }
   ],
   "source": [
    "s.reindex(list('hijabcd'))"
   ]
  },
  {
   "cell_type": "code",
   "execution_count": 10,
   "metadata": {},
   "outputs": [
    {
     "data": {
      "text/plain": [
       "f    0\n",
       "g    1\n",
       "h    2\n",
       "i    3\n",
       "j    4\n",
       "dtype: int64"
      ]
     },
     "execution_count": 10,
     "metadata": {},
     "output_type": "execute_result"
    }
   ],
   "source": [
    "s"
   ]
  },
  {
   "cell_type": "markdown",
   "metadata": {},
   "source": [
    "### DataFrame"
   ]
  },
  {
   "cell_type": "code",
   "execution_count": 11,
   "metadata": {},
   "outputs": [],
   "source": [
    "data = np.random.randn(10, 4)"
   ]
  },
  {
   "cell_type": "code",
   "execution_count": 12,
   "metadata": {},
   "outputs": [
    {
     "data": {
      "text/html": [
       "<div>\n",
       "<style scoped>\n",
       "    .dataframe tbody tr th:only-of-type {\n",
       "        vertical-align: middle;\n",
       "    }\n",
       "\n",
       "    .dataframe tbody tr th {\n",
       "        vertical-align: top;\n",
       "    }\n",
       "\n",
       "    .dataframe thead th {\n",
       "        text-align: right;\n",
       "    }\n",
       "</style>\n",
       "<table border=\"1\" class=\"dataframe\">\n",
       "  <thead>\n",
       "    <tr style=\"text-align: right;\">\n",
       "      <th></th>\n",
       "      <th>0</th>\n",
       "      <th>1</th>\n",
       "      <th>2</th>\n",
       "      <th>3</th>\n",
       "    </tr>\n",
       "  </thead>\n",
       "  <tbody>\n",
       "    <tr>\n",
       "      <th>0</th>\n",
       "      <td>0.223708</td>\n",
       "      <td>1.408029</td>\n",
       "      <td>1.349756</td>\n",
       "      <td>0.757953</td>\n",
       "    </tr>\n",
       "    <tr>\n",
       "      <th>1</th>\n",
       "      <td>-2.003944</td>\n",
       "      <td>-0.962365</td>\n",
       "      <td>0.762400</td>\n",
       "      <td>-1.025047</td>\n",
       "    </tr>\n",
       "    <tr>\n",
       "      <th>2</th>\n",
       "      <td>-0.876902</td>\n",
       "      <td>1.101417</td>\n",
       "      <td>-0.907696</td>\n",
       "      <td>0.422559</td>\n",
       "    </tr>\n",
       "    <tr>\n",
       "      <th>3</th>\n",
       "      <td>-1.005724</td>\n",
       "      <td>-0.323304</td>\n",
       "      <td>0.360163</td>\n",
       "      <td>0.603816</td>\n",
       "    </tr>\n",
       "    <tr>\n",
       "      <th>4</th>\n",
       "      <td>-1.296204</td>\n",
       "      <td>0.072811</td>\n",
       "      <td>1.852602</td>\n",
       "      <td>0.950694</td>\n",
       "    </tr>\n",
       "    <tr>\n",
       "      <th>5</th>\n",
       "      <td>-0.456404</td>\n",
       "      <td>-0.198608</td>\n",
       "      <td>0.681353</td>\n",
       "      <td>0.262912</td>\n",
       "    </tr>\n",
       "    <tr>\n",
       "      <th>6</th>\n",
       "      <td>0.525160</td>\n",
       "      <td>-0.411064</td>\n",
       "      <td>0.055547</td>\n",
       "      <td>0.619856</td>\n",
       "    </tr>\n",
       "    <tr>\n",
       "      <th>7</th>\n",
       "      <td>0.189270</td>\n",
       "      <td>1.425743</td>\n",
       "      <td>1.236458</td>\n",
       "      <td>-0.917126</td>\n",
       "    </tr>\n",
       "    <tr>\n",
       "      <th>8</th>\n",
       "      <td>0.924788</td>\n",
       "      <td>-0.433809</td>\n",
       "      <td>-0.476563</td>\n",
       "      <td>0.940391</td>\n",
       "    </tr>\n",
       "    <tr>\n",
       "      <th>9</th>\n",
       "      <td>1.928159</td>\n",
       "      <td>0.830349</td>\n",
       "      <td>-0.275443</td>\n",
       "      <td>0.189153</td>\n",
       "    </tr>\n",
       "  </tbody>\n",
       "</table>\n",
       "</div>"
      ],
      "text/plain": [
       "          0         1         2         3\n",
       "0  0.223708  1.408029  1.349756  0.757953\n",
       "1 -2.003944 -0.962365  0.762400 -1.025047\n",
       "2 -0.876902  1.101417 -0.907696  0.422559\n",
       "3 -1.005724 -0.323304  0.360163  0.603816\n",
       "4 -1.296204  0.072811  1.852602  0.950694\n",
       "5 -0.456404 -0.198608  0.681353  0.262912\n",
       "6  0.525160 -0.411064  0.055547  0.619856\n",
       "7  0.189270  1.425743  1.236458 -0.917126\n",
       "8  0.924788 -0.433809 -0.476563  0.940391\n",
       "9  1.928159  0.830349 -0.275443  0.189153"
      ]
     },
     "execution_count": 12,
     "metadata": {},
     "output_type": "execute_result"
    }
   ],
   "source": [
    "df = pd.DataFrame(data)\n",
    "df"
   ]
  },
  {
   "cell_type": "code",
   "execution_count": 13,
   "metadata": {},
   "outputs": [
    {
     "data": {
      "text/html": [
       "<div>\n",
       "<style scoped>\n",
       "    .dataframe tbody tr th:only-of-type {\n",
       "        vertical-align: middle;\n",
       "    }\n",
       "\n",
       "    .dataframe tbody tr th {\n",
       "        vertical-align: top;\n",
       "    }\n",
       "\n",
       "    .dataframe thead th {\n",
       "        text-align: right;\n",
       "    }\n",
       "</style>\n",
       "<table border=\"1\" class=\"dataframe\">\n",
       "  <thead>\n",
       "    <tr style=\"text-align: right;\">\n",
       "      <th></th>\n",
       "      <th>No1</th>\n",
       "      <th>No2</th>\n",
       "      <th>No3</th>\n",
       "      <th>No4</th>\n",
       "    </tr>\n",
       "  </thead>\n",
       "  <tbody>\n",
       "    <tr>\n",
       "      <th>0</th>\n",
       "      <td>0.223708</td>\n",
       "      <td>1.408029</td>\n",
       "      <td>1.349756</td>\n",
       "      <td>0.757953</td>\n",
       "    </tr>\n",
       "    <tr>\n",
       "      <th>1</th>\n",
       "      <td>-2.003944</td>\n",
       "      <td>-0.962365</td>\n",
       "      <td>0.762400</td>\n",
       "      <td>-1.025047</td>\n",
       "    </tr>\n",
       "    <tr>\n",
       "      <th>2</th>\n",
       "      <td>-0.876902</td>\n",
       "      <td>1.101417</td>\n",
       "      <td>-0.907696</td>\n",
       "      <td>0.422559</td>\n",
       "    </tr>\n",
       "    <tr>\n",
       "      <th>3</th>\n",
       "      <td>-1.005724</td>\n",
       "      <td>-0.323304</td>\n",
       "      <td>0.360163</td>\n",
       "      <td>0.603816</td>\n",
       "    </tr>\n",
       "    <tr>\n",
       "      <th>4</th>\n",
       "      <td>-1.296204</td>\n",
       "      <td>0.072811</td>\n",
       "      <td>1.852602</td>\n",
       "      <td>0.950694</td>\n",
       "    </tr>\n",
       "    <tr>\n",
       "      <th>5</th>\n",
       "      <td>-0.456404</td>\n",
       "      <td>-0.198608</td>\n",
       "      <td>0.681353</td>\n",
       "      <td>0.262912</td>\n",
       "    </tr>\n",
       "    <tr>\n",
       "      <th>6</th>\n",
       "      <td>0.525160</td>\n",
       "      <td>-0.411064</td>\n",
       "      <td>0.055547</td>\n",
       "      <td>0.619856</td>\n",
       "    </tr>\n",
       "    <tr>\n",
       "      <th>7</th>\n",
       "      <td>0.189270</td>\n",
       "      <td>1.425743</td>\n",
       "      <td>1.236458</td>\n",
       "      <td>-0.917126</td>\n",
       "    </tr>\n",
       "    <tr>\n",
       "      <th>8</th>\n",
       "      <td>0.924788</td>\n",
       "      <td>-0.433809</td>\n",
       "      <td>-0.476563</td>\n",
       "      <td>0.940391</td>\n",
       "    </tr>\n",
       "    <tr>\n",
       "      <th>9</th>\n",
       "      <td>1.928159</td>\n",
       "      <td>0.830349</td>\n",
       "      <td>-0.275443</td>\n",
       "      <td>0.189153</td>\n",
       "    </tr>\n",
       "  </tbody>\n",
       "</table>\n",
       "</div>"
      ],
      "text/plain": [
       "        No1       No2       No3       No4\n",
       "0  0.223708  1.408029  1.349756  0.757953\n",
       "1 -2.003944 -0.962365  0.762400 -1.025047\n",
       "2 -0.876902  1.101417 -0.907696  0.422559\n",
       "3 -1.005724 -0.323304  0.360163  0.603816\n",
       "4 -1.296204  0.072811  1.852602  0.950694\n",
       "5 -0.456404 -0.198608  0.681353  0.262912\n",
       "6  0.525160 -0.411064  0.055547  0.619856\n",
       "7  0.189270  1.425743  1.236458 -0.917126\n",
       "8  0.924788 -0.433809 -0.476563  0.940391\n",
       "9  1.928159  0.830349 -0.275443  0.189153"
      ]
     },
     "execution_count": 13,
     "metadata": {},
     "output_type": "execute_result"
    }
   ],
   "source": [
    "df.columns = ['No1', 'No2', 'No3', 'No4']\n",
    "df"
   ]
  },
  {
   "cell_type": "code",
   "execution_count": 14,
   "metadata": {},
   "outputs": [
    {
     "data": {
      "text/html": [
       "<div>\n",
       "<style scoped>\n",
       "    .dataframe tbody tr th:only-of-type {\n",
       "        vertical-align: middle;\n",
       "    }\n",
       "\n",
       "    .dataframe tbody tr th {\n",
       "        vertical-align: top;\n",
       "    }\n",
       "\n",
       "    .dataframe thead th {\n",
       "        text-align: right;\n",
       "    }\n",
       "</style>\n",
       "<table border=\"1\" class=\"dataframe\">\n",
       "  <thead>\n",
       "    <tr style=\"text-align: right;\">\n",
       "      <th></th>\n",
       "      <th>No1</th>\n",
       "      <th>No2</th>\n",
       "      <th>No3</th>\n",
       "      <th>No4</th>\n",
       "    </tr>\n",
       "  </thead>\n",
       "  <tbody>\n",
       "    <tr>\n",
       "      <th>2016-01-01</th>\n",
       "      <td>0.223708</td>\n",
       "      <td>1.408029</td>\n",
       "      <td>1.349756</td>\n",
       "      <td>0.757953</td>\n",
       "    </tr>\n",
       "    <tr>\n",
       "      <th>2016-01-02</th>\n",
       "      <td>-2.003944</td>\n",
       "      <td>-0.962365</td>\n",
       "      <td>0.762400</td>\n",
       "      <td>-1.025047</td>\n",
       "    </tr>\n",
       "    <tr>\n",
       "      <th>2016-01-03</th>\n",
       "      <td>-0.876902</td>\n",
       "      <td>1.101417</td>\n",
       "      <td>-0.907696</td>\n",
       "      <td>0.422559</td>\n",
       "    </tr>\n",
       "    <tr>\n",
       "      <th>2016-01-04</th>\n",
       "      <td>-1.005724</td>\n",
       "      <td>-0.323304</td>\n",
       "      <td>0.360163</td>\n",
       "      <td>0.603816</td>\n",
       "    </tr>\n",
       "    <tr>\n",
       "      <th>2016-01-05</th>\n",
       "      <td>-1.296204</td>\n",
       "      <td>0.072811</td>\n",
       "      <td>1.852602</td>\n",
       "      <td>0.950694</td>\n",
       "    </tr>\n",
       "    <tr>\n",
       "      <th>2016-01-06</th>\n",
       "      <td>-0.456404</td>\n",
       "      <td>-0.198608</td>\n",
       "      <td>0.681353</td>\n",
       "      <td>0.262912</td>\n",
       "    </tr>\n",
       "    <tr>\n",
       "      <th>2016-01-07</th>\n",
       "      <td>0.525160</td>\n",
       "      <td>-0.411064</td>\n",
       "      <td>0.055547</td>\n",
       "      <td>0.619856</td>\n",
       "    </tr>\n",
       "    <tr>\n",
       "      <th>2016-01-08</th>\n",
       "      <td>0.189270</td>\n",
       "      <td>1.425743</td>\n",
       "      <td>1.236458</td>\n",
       "      <td>-0.917126</td>\n",
       "    </tr>\n",
       "    <tr>\n",
       "      <th>2016-01-09</th>\n",
       "      <td>0.924788</td>\n",
       "      <td>-0.433809</td>\n",
       "      <td>-0.476563</td>\n",
       "      <td>0.940391</td>\n",
       "    </tr>\n",
       "    <tr>\n",
       "      <th>2016-01-10</th>\n",
       "      <td>1.928159</td>\n",
       "      <td>0.830349</td>\n",
       "      <td>-0.275443</td>\n",
       "      <td>0.189153</td>\n",
       "    </tr>\n",
       "  </tbody>\n",
       "</table>\n",
       "</div>"
      ],
      "text/plain": [
       "                 No1       No2       No3       No4\n",
       "2016-01-01  0.223708  1.408029  1.349756  0.757953\n",
       "2016-01-02 -2.003944 -0.962365  0.762400 -1.025047\n",
       "2016-01-03 -0.876902  1.101417 -0.907696  0.422559\n",
       "2016-01-04 -1.005724 -0.323304  0.360163  0.603816\n",
       "2016-01-05 -1.296204  0.072811  1.852602  0.950694\n",
       "2016-01-06 -0.456404 -0.198608  0.681353  0.262912\n",
       "2016-01-07  0.525160 -0.411064  0.055547  0.619856\n",
       "2016-01-08  0.189270  1.425743  1.236458 -0.917126\n",
       "2016-01-09  0.924788 -0.433809 -0.476563  0.940391\n",
       "2016-01-10  1.928159  0.830349 -0.275443  0.189153"
      ]
     },
     "execution_count": 14,
     "metadata": {},
     "output_type": "execute_result"
    }
   ],
   "source": [
    "df.index = pd.date_range('2016-01-01', periods=10)\n",
    "df"
   ]
  },
  {
   "cell_type": "code",
   "execution_count": 15,
   "metadata": {},
   "outputs": [
    {
     "data": {
      "text/plain": [
       "No1   -0.456404\n",
       "No2   -0.198608\n",
       "No3    0.681353\n",
       "No4    0.262912\n",
       "Name: 2016-01-06 00:00:00, dtype: float64"
      ]
     },
     "execution_count": 15,
     "metadata": {},
     "output_type": "execute_result"
    }
   ],
   "source": [
    "df.loc['2016-01-06']"
   ]
  },
  {
   "cell_type": "code",
   "execution_count": 16,
   "metadata": {},
   "outputs": [
    {
     "data": {
      "text/html": [
       "<div>\n",
       "<style scoped>\n",
       "    .dataframe tbody tr th:only-of-type {\n",
       "        vertical-align: middle;\n",
       "    }\n",
       "\n",
       "    .dataframe tbody tr th {\n",
       "        vertical-align: top;\n",
       "    }\n",
       "\n",
       "    .dataframe thead th {\n",
       "        text-align: right;\n",
       "    }\n",
       "</style>\n",
       "<table border=\"1\" class=\"dataframe\">\n",
       "  <thead>\n",
       "    <tr style=\"text-align: right;\">\n",
       "      <th></th>\n",
       "      <th>No1</th>\n",
       "      <th>No2</th>\n",
       "      <th>No3</th>\n",
       "      <th>No4</th>\n",
       "    </tr>\n",
       "  </thead>\n",
       "  <tbody>\n",
       "    <tr>\n",
       "      <th>2016-01-01</th>\n",
       "      <td>0.223708</td>\n",
       "      <td>1.408029</td>\n",
       "      <td>1.349756</td>\n",
       "      <td>0.757953</td>\n",
       "    </tr>\n",
       "    <tr>\n",
       "      <th>2016-01-02</th>\n",
       "      <td>-2.003944</td>\n",
       "      <td>-0.962365</td>\n",
       "      <td>0.762400</td>\n",
       "      <td>-1.025047</td>\n",
       "    </tr>\n",
       "    <tr>\n",
       "      <th>2016-01-04</th>\n",
       "      <td>-1.005724</td>\n",
       "      <td>-0.323304</td>\n",
       "      <td>0.360163</td>\n",
       "      <td>0.603816</td>\n",
       "    </tr>\n",
       "    <tr>\n",
       "      <th>2016-01-05</th>\n",
       "      <td>-1.296204</td>\n",
       "      <td>0.072811</td>\n",
       "      <td>1.852602</td>\n",
       "      <td>0.950694</td>\n",
       "    </tr>\n",
       "    <tr>\n",
       "      <th>2016-01-06</th>\n",
       "      <td>-0.456404</td>\n",
       "      <td>-0.198608</td>\n",
       "      <td>0.681353</td>\n",
       "      <td>0.262912</td>\n",
       "    </tr>\n",
       "    <tr>\n",
       "      <th>2016-01-07</th>\n",
       "      <td>0.525160</td>\n",
       "      <td>-0.411064</td>\n",
       "      <td>0.055547</td>\n",
       "      <td>0.619856</td>\n",
       "    </tr>\n",
       "    <tr>\n",
       "      <th>2016-01-08</th>\n",
       "      <td>0.189270</td>\n",
       "      <td>1.425743</td>\n",
       "      <td>1.236458</td>\n",
       "      <td>-0.917126</td>\n",
       "    </tr>\n",
       "    <tr>\n",
       "      <th>2016-01-09</th>\n",
       "      <td>0.924788</td>\n",
       "      <td>-0.433809</td>\n",
       "      <td>-0.476563</td>\n",
       "      <td>0.940391</td>\n",
       "    </tr>\n",
       "    <tr>\n",
       "      <th>2016-01-10</th>\n",
       "      <td>1.928159</td>\n",
       "      <td>0.830349</td>\n",
       "      <td>-0.275443</td>\n",
       "      <td>0.189153</td>\n",
       "    </tr>\n",
       "  </tbody>\n",
       "</table>\n",
       "</div>"
      ],
      "text/plain": [
       "                 No1       No2       No3       No4\n",
       "2016-01-01  0.223708  1.408029  1.349756  0.757953\n",
       "2016-01-02 -2.003944 -0.962365  0.762400 -1.025047\n",
       "2016-01-04 -1.005724 -0.323304  0.360163  0.603816\n",
       "2016-01-05 -1.296204  0.072811  1.852602  0.950694\n",
       "2016-01-06 -0.456404 -0.198608  0.681353  0.262912\n",
       "2016-01-07  0.525160 -0.411064  0.055547  0.619856\n",
       "2016-01-08  0.189270  1.425743  1.236458 -0.917126\n",
       "2016-01-09  0.924788 -0.433809 -0.476563  0.940391\n",
       "2016-01-10  1.928159  0.830349 -0.275443  0.189153"
      ]
     },
     "execution_count": 16,
     "metadata": {},
     "output_type": "execute_result"
    }
   ],
   "source": [
    "df.drop(datetime(2016, 1, 3), inplace=True)\n",
    "df"
   ]
  },
  {
   "cell_type": "code",
   "execution_count": 17,
   "metadata": {},
   "outputs": [
    {
     "data": {
      "text/html": [
       "<div>\n",
       "<style scoped>\n",
       "    .dataframe tbody tr th:only-of-type {\n",
       "        vertical-align: middle;\n",
       "    }\n",
       "\n",
       "    .dataframe tbody tr th {\n",
       "        vertical-align: top;\n",
       "    }\n",
       "\n",
       "    .dataframe thead th {\n",
       "        text-align: right;\n",
       "    }\n",
       "</style>\n",
       "<table border=\"1\" class=\"dataframe\">\n",
       "  <thead>\n",
       "    <tr style=\"text-align: right;\">\n",
       "      <th></th>\n",
       "      <th>No1</th>\n",
       "      <th>No2</th>\n",
       "      <th>No3</th>\n",
       "      <th>No4</th>\n",
       "    </tr>\n",
       "  </thead>\n",
       "  <tbody>\n",
       "    <tr>\n",
       "      <th>0</th>\n",
       "      <td>0.223708</td>\n",
       "      <td>1.408029</td>\n",
       "      <td>1.349756</td>\n",
       "      <td>0.757953</td>\n",
       "    </tr>\n",
       "    <tr>\n",
       "      <th>1</th>\n",
       "      <td>-2.003944</td>\n",
       "      <td>-0.962365</td>\n",
       "      <td>0.762400</td>\n",
       "      <td>-1.025047</td>\n",
       "    </tr>\n",
       "    <tr>\n",
       "      <th>2</th>\n",
       "      <td>-1.005724</td>\n",
       "      <td>-0.323304</td>\n",
       "      <td>0.360163</td>\n",
       "      <td>0.603816</td>\n",
       "    </tr>\n",
       "    <tr>\n",
       "      <th>3</th>\n",
       "      <td>-1.296204</td>\n",
       "      <td>0.072811</td>\n",
       "      <td>1.852602</td>\n",
       "      <td>0.950694</td>\n",
       "    </tr>\n",
       "    <tr>\n",
       "      <th>4</th>\n",
       "      <td>-0.456404</td>\n",
       "      <td>-0.198608</td>\n",
       "      <td>0.681353</td>\n",
       "      <td>0.262912</td>\n",
       "    </tr>\n",
       "    <tr>\n",
       "      <th>5</th>\n",
       "      <td>0.525160</td>\n",
       "      <td>-0.411064</td>\n",
       "      <td>0.055547</td>\n",
       "      <td>0.619856</td>\n",
       "    </tr>\n",
       "    <tr>\n",
       "      <th>6</th>\n",
       "      <td>0.189270</td>\n",
       "      <td>1.425743</td>\n",
       "      <td>1.236458</td>\n",
       "      <td>-0.917126</td>\n",
       "    </tr>\n",
       "    <tr>\n",
       "      <th>7</th>\n",
       "      <td>0.924788</td>\n",
       "      <td>-0.433809</td>\n",
       "      <td>-0.476563</td>\n",
       "      <td>0.940391</td>\n",
       "    </tr>\n",
       "    <tr>\n",
       "      <th>8</th>\n",
       "      <td>1.928159</td>\n",
       "      <td>0.830349</td>\n",
       "      <td>-0.275443</td>\n",
       "      <td>0.189153</td>\n",
       "    </tr>\n",
       "  </tbody>\n",
       "</table>\n",
       "</div>"
      ],
      "text/plain": [
       "        No1       No2       No3       No4\n",
       "0  0.223708  1.408029  1.349756  0.757953\n",
       "1 -2.003944 -0.962365  0.762400 -1.025047\n",
       "2 -1.005724 -0.323304  0.360163  0.603816\n",
       "3 -1.296204  0.072811  1.852602  0.950694\n",
       "4 -0.456404 -0.198608  0.681353  0.262912\n",
       "5  0.525160 -0.411064  0.055547  0.619856\n",
       "6  0.189270  1.425743  1.236458 -0.917126\n",
       "7  0.924788 -0.433809 -0.476563  0.940391\n",
       "8  1.928159  0.830349 -0.275443  0.189153"
      ]
     },
     "execution_count": 17,
     "metadata": {},
     "output_type": "execute_result"
    }
   ],
   "source": [
    "df.index=range(9)\n",
    "df"
   ]
  },
  {
   "cell_type": "code",
   "execution_count": 18,
   "metadata": {},
   "outputs": [
    {
     "data": {
      "text/plain": [
       "No1   -2.003944\n",
       "No2   -0.962365\n",
       "No3    0.762400\n",
       "No4   -1.025047\n",
       "Name: 1, dtype: float64"
      ]
     },
     "execution_count": 18,
     "metadata": {},
     "output_type": "execute_result"
    }
   ],
   "source": [
    "df.iloc[1]"
   ]
  },
  {
   "cell_type": "code",
   "execution_count": 19,
   "metadata": {},
   "outputs": [
    {
     "data": {
      "text/html": [
       "<div>\n",
       "<style scoped>\n",
       "    .dataframe tbody tr th:only-of-type {\n",
       "        vertical-align: middle;\n",
       "    }\n",
       "\n",
       "    .dataframe tbody tr th {\n",
       "        vertical-align: top;\n",
       "    }\n",
       "\n",
       "    .dataframe thead th {\n",
       "        text-align: right;\n",
       "    }\n",
       "</style>\n",
       "<table border=\"1\" class=\"dataframe\">\n",
       "  <thead>\n",
       "    <tr style=\"text-align: right;\">\n",
       "      <th></th>\n",
       "      <th>No1</th>\n",
       "      <th>No2</th>\n",
       "      <th>No3</th>\n",
       "      <th>No4</th>\n",
       "    </tr>\n",
       "  </thead>\n",
       "  <tbody>\n",
       "    <tr>\n",
       "      <th>0</th>\n",
       "      <td>0.223708</td>\n",
       "      <td>1.408029</td>\n",
       "      <td>1.349756</td>\n",
       "      <td>0.757953</td>\n",
       "    </tr>\n",
       "    <tr>\n",
       "      <th>1</th>\n",
       "      <td>-2.003944</td>\n",
       "      <td>-0.962365</td>\n",
       "      <td>0.762400</td>\n",
       "      <td>-1.025047</td>\n",
       "    </tr>\n",
       "    <tr>\n",
       "      <th>2</th>\n",
       "      <td>-1.005724</td>\n",
       "      <td>-0.323304</td>\n",
       "      <td>0.360163</td>\n",
       "      <td>0.603816</td>\n",
       "    </tr>\n",
       "    <tr>\n",
       "      <th>3</th>\n",
       "      <td>-1.296204</td>\n",
       "      <td>0.072811</td>\n",
       "      <td>1.852602</td>\n",
       "      <td>0.950694</td>\n",
       "    </tr>\n",
       "    <tr>\n",
       "      <th>5</th>\n",
       "      <td>0.525160</td>\n",
       "      <td>-0.411064</td>\n",
       "      <td>0.055547</td>\n",
       "      <td>0.619856</td>\n",
       "    </tr>\n",
       "    <tr>\n",
       "      <th>6</th>\n",
       "      <td>0.189270</td>\n",
       "      <td>1.425743</td>\n",
       "      <td>1.236458</td>\n",
       "      <td>-0.917126</td>\n",
       "    </tr>\n",
       "    <tr>\n",
       "      <th>7</th>\n",
       "      <td>0.924788</td>\n",
       "      <td>-0.433809</td>\n",
       "      <td>-0.476563</td>\n",
       "      <td>0.940391</td>\n",
       "    </tr>\n",
       "    <tr>\n",
       "      <th>8</th>\n",
       "      <td>1.928159</td>\n",
       "      <td>0.830349</td>\n",
       "      <td>-0.275443</td>\n",
       "      <td>0.189153</td>\n",
       "    </tr>\n",
       "  </tbody>\n",
       "</table>\n",
       "</div>"
      ],
      "text/plain": [
       "        No1       No2       No3       No4\n",
       "0  0.223708  1.408029  1.349756  0.757953\n",
       "1 -2.003944 -0.962365  0.762400 -1.025047\n",
       "2 -1.005724 -0.323304  0.360163  0.603816\n",
       "3 -1.296204  0.072811  1.852602  0.950694\n",
       "5  0.525160 -0.411064  0.055547  0.619856\n",
       "6  0.189270  1.425743  1.236458 -0.917126\n",
       "7  0.924788 -0.433809 -0.476563  0.940391\n",
       "8  1.928159  0.830349 -0.275443  0.189153"
      ]
     },
     "execution_count": 19,
     "metadata": {},
     "output_type": "execute_result"
    }
   ],
   "source": [
    "df.drop(4)"
   ]
  },
  {
   "cell_type": "markdown",
   "metadata": {},
   "source": [
    "## 使用 Pandas 作資料存取\n",
    "\n",
    "### 這一部分包括底下幾個重點：\n",
    "\n",
    "* read_csv() 的使用\n",
    "* read_html() 的使用\n",
    "* 如何抓取股市資訊？\n",
    "\n",
    "底下練習一下將 [台灣證券交易所 - 加權股價指數歷史資料](http://www.tse.com.tw/ch/trading/indices/MI_5MINS_HIST/MI_5MINS_HIST.php#) 的資料轉成 DataFrame。"
   ]
  },
  {
   "cell_type": "markdown",
   "metadata": {},
   "source": [
    "### 使用 read_csv() 讀取資料\n",
    "\n",
    "參考連結：[pandas.read_csv](http://pandas.pydata.org/pandas-docs/stable/generated/pandas.read_csv.html)"
   ]
  },
  {
   "cell_type": "code",
   "execution_count": 20,
   "metadata": {},
   "outputs": [],
   "source": [
    "df = pd.read_csv(\"data/MI_5MINS_HIST10603.csv\", encoding=\"Big5\", header=1)"
   ]
  },
  {
   "cell_type": "code",
   "execution_count": 21,
   "metadata": {},
   "outputs": [
    {
     "data": {
      "text/html": [
       "<div>\n",
       "<style scoped>\n",
       "    .dataframe tbody tr th:only-of-type {\n",
       "        vertical-align: middle;\n",
       "    }\n",
       "\n",
       "    .dataframe tbody tr th {\n",
       "        vertical-align: top;\n",
       "    }\n",
       "\n",
       "    .dataframe thead th {\n",
       "        text-align: right;\n",
       "    }\n",
       "</style>\n",
       "<table border=\"1\" class=\"dataframe\">\n",
       "  <thead>\n",
       "    <tr style=\"text-align: right;\">\n",
       "      <th></th>\n",
       "      <th>日期</th>\n",
       "      <th>開盤指數</th>\n",
       "      <th>最高指數</th>\n",
       "      <th>最低指數</th>\n",
       "      <th>收盤指數</th>\n",
       "    </tr>\n",
       "  </thead>\n",
       "  <tbody>\n",
       "    <tr>\n",
       "      <th>0</th>\n",
       "      <td>106/03/01</td>\n",
       "      <td>9,751.12</td>\n",
       "      <td>9,758.78</td>\n",
       "      <td>9,674.78</td>\n",
       "      <td>9,674.78</td>\n",
       "    </tr>\n",
       "    <tr>\n",
       "      <th>1</th>\n",
       "      <td>106/03/02</td>\n",
       "      <td>9,727.60</td>\n",
       "      <td>9,774.60</td>\n",
       "      <td>9,646.34</td>\n",
       "      <td>9,691.80</td>\n",
       "    </tr>\n",
       "    <tr>\n",
       "      <th>2</th>\n",
       "      <td>106/03/03</td>\n",
       "      <td>9,672.26</td>\n",
       "      <td>9,679.82</td>\n",
       "      <td>9,633.88</td>\n",
       "      <td>9,648.21</td>\n",
       "    </tr>\n",
       "    <tr>\n",
       "      <th>3</th>\n",
       "      <td>106/03/06</td>\n",
       "      <td>9,647.00</td>\n",
       "      <td>9,688.50</td>\n",
       "      <td>9,647.00</td>\n",
       "      <td>9,682.63</td>\n",
       "    </tr>\n",
       "    <tr>\n",
       "      <th>4</th>\n",
       "      <td>106/03/07</td>\n",
       "      <td>9,690.26</td>\n",
       "      <td>9,738.07</td>\n",
       "      <td>9,690.20</td>\n",
       "      <td>9,738.07</td>\n",
       "    </tr>\n",
       "    <tr>\n",
       "      <th>5</th>\n",
       "      <td>106/03/08</td>\n",
       "      <td>9,744.26</td>\n",
       "      <td>9,773.49</td>\n",
       "      <td>9,712.50</td>\n",
       "      <td>9,753.45</td>\n",
       "    </tr>\n",
       "    <tr>\n",
       "      <th>6</th>\n",
       "      <td>106/03/09</td>\n",
       "      <td>9,740.05</td>\n",
       "      <td>9,743.78</td>\n",
       "      <td>9,650.32</td>\n",
       "      <td>9,658.61</td>\n",
       "    </tr>\n",
       "    <tr>\n",
       "      <th>7</th>\n",
       "      <td>106/03/10</td>\n",
       "      <td>9,653.79</td>\n",
       "      <td>9,656.65</td>\n",
       "      <td>9,562.75</td>\n",
       "      <td>9,627.89</td>\n",
       "    </tr>\n",
       "    <tr>\n",
       "      <th>8</th>\n",
       "      <td>106/03/13</td>\n",
       "      <td>9,656.56</td>\n",
       "      <td>9,697.34</td>\n",
       "      <td>9,656.56</td>\n",
       "      <td>9,697.34</td>\n",
       "    </tr>\n",
       "    <tr>\n",
       "      <th>9</th>\n",
       "      <td>106/03/14</td>\n",
       "      <td>9,720.53</td>\n",
       "      <td>9,767.66</td>\n",
       "      <td>9,720.53</td>\n",
       "      <td>9,744.21</td>\n",
       "    </tr>\n",
       "    <tr>\n",
       "      <th>10</th>\n",
       "      <td>106/03/15</td>\n",
       "      <td>9,741.29</td>\n",
       "      <td>9,749.01</td>\n",
       "      <td>9,714.58</td>\n",
       "      <td>9,740.31</td>\n",
       "    </tr>\n",
       "    <tr>\n",
       "      <th>11</th>\n",
       "      <td>106/03/16</td>\n",
       "      <td>9,768.85</td>\n",
       "      <td>9,842.17</td>\n",
       "      <td>9,768.85</td>\n",
       "      <td>9,837.83</td>\n",
       "    </tr>\n",
       "    <tr>\n",
       "      <th>12</th>\n",
       "      <td>106/03/17</td>\n",
       "      <td>9,845.59</td>\n",
       "      <td>9,908.69</td>\n",
       "      <td>9,835.51</td>\n",
       "      <td>9,908.69</td>\n",
       "    </tr>\n",
       "    <tr>\n",
       "      <th>13</th>\n",
       "      <td>106/03/20</td>\n",
       "      <td>9,905.81</td>\n",
       "      <td>9,916.18</td>\n",
       "      <td>9,869.35</td>\n",
       "      <td>9,912.97</td>\n",
       "    </tr>\n",
       "    <tr>\n",
       "      <th>14</th>\n",
       "      <td>106/03/21</td>\n",
       "      <td>9,923.18</td>\n",
       "      <td>9,976.61</td>\n",
       "      <td>9,918.39</td>\n",
       "      <td>9,972.49</td>\n",
       "    </tr>\n",
       "    <tr>\n",
       "      <th>15</th>\n",
       "      <td>106/03/22</td>\n",
       "      <td>9,911.96</td>\n",
       "      <td>9,922.66</td>\n",
       "      <td>9,843.07</td>\n",
       "      <td>9,922.66</td>\n",
       "    </tr>\n",
       "    <tr>\n",
       "      <th>16</th>\n",
       "      <td>106/03/23</td>\n",
       "      <td>9,921.97</td>\n",
       "      <td>9,945.24</td>\n",
       "      <td>9,897.45</td>\n",
       "      <td>9,930.74</td>\n",
       "    </tr>\n",
       "    <tr>\n",
       "      <th>17</th>\n",
       "      <td>106/03/24</td>\n",
       "      <td>9,914.12</td>\n",
       "      <td>9,932.68</td>\n",
       "      <td>9,892.31</td>\n",
       "      <td>9,902.98</td>\n",
       "    </tr>\n",
       "    <tr>\n",
       "      <th>18</th>\n",
       "      <td>NaN</td>\n",
       "      <td>NaN</td>\n",
       "      <td>NaN</td>\n",
       "      <td>NaN</td>\n",
       "      <td>NaN</td>\n",
       "    </tr>\n",
       "  </tbody>\n",
       "</table>\n",
       "</div>"
      ],
      "text/plain": [
       "            日期       開盤指數       最高指數       最低指數       收盤指數\n",
       "0    106/03/01   9,751.12   9,758.78   9,674.78   9,674.78\n",
       "1    106/03/02   9,727.60   9,774.60   9,646.34   9,691.80\n",
       "2    106/03/03   9,672.26   9,679.82   9,633.88   9,648.21\n",
       "3    106/03/06   9,647.00   9,688.50   9,647.00   9,682.63\n",
       "4    106/03/07   9,690.26   9,738.07   9,690.20   9,738.07\n",
       "5    106/03/08   9,744.26   9,773.49   9,712.50   9,753.45\n",
       "6    106/03/09   9,740.05   9,743.78   9,650.32   9,658.61\n",
       "7    106/03/10   9,653.79   9,656.65   9,562.75   9,627.89\n",
       "8    106/03/13   9,656.56   9,697.34   9,656.56   9,697.34\n",
       "9    106/03/14   9,720.53   9,767.66   9,720.53   9,744.21\n",
       "10   106/03/15   9,741.29   9,749.01   9,714.58   9,740.31\n",
       "11   106/03/16   9,768.85   9,842.17   9,768.85   9,837.83\n",
       "12   106/03/17   9,845.59   9,908.69   9,835.51   9,908.69\n",
       "13   106/03/20   9,905.81   9,916.18   9,869.35   9,912.97\n",
       "14   106/03/21   9,923.18   9,976.61   9,918.39   9,972.49\n",
       "15   106/03/22   9,911.96   9,922.66   9,843.07   9,922.66\n",
       "16   106/03/23   9,921.97   9,945.24   9,897.45   9,930.74\n",
       "17   106/03/24   9,914.12   9,932.68   9,892.31   9,902.98\n",
       "18         NaN        NaN        NaN        NaN        NaN"
      ]
     },
     "execution_count": 21,
     "metadata": {},
     "output_type": "execute_result"
    }
   ],
   "source": [
    "df"
   ]
  },
  {
   "cell_type": "code",
   "execution_count": 22,
   "metadata": {},
   "outputs": [
    {
     "data": {
      "text/html": [
       "<div>\n",
       "<style scoped>\n",
       "    .dataframe tbody tr th:only-of-type {\n",
       "        vertical-align: middle;\n",
       "    }\n",
       "\n",
       "    .dataframe tbody tr th {\n",
       "        vertical-align: top;\n",
       "    }\n",
       "\n",
       "    .dataframe thead th {\n",
       "        text-align: right;\n",
       "    }\n",
       "</style>\n",
       "<table border=\"1\" class=\"dataframe\">\n",
       "  <thead>\n",
       "    <tr style=\"text-align: right;\">\n",
       "      <th></th>\n",
       "      <th>日期</th>\n",
       "      <th>開盤指數</th>\n",
       "      <th>最高指數</th>\n",
       "      <th>最低指數</th>\n",
       "      <th>收盤指數</th>\n",
       "    </tr>\n",
       "  </thead>\n",
       "  <tbody>\n",
       "    <tr>\n",
       "      <th>0</th>\n",
       "      <td>106/03/01</td>\n",
       "      <td>9,751.12</td>\n",
       "      <td>9,758.78</td>\n",
       "      <td>9,674.78</td>\n",
       "      <td>9,674.78</td>\n",
       "    </tr>\n",
       "    <tr>\n",
       "      <th>1</th>\n",
       "      <td>106/03/02</td>\n",
       "      <td>9,727.60</td>\n",
       "      <td>9,774.60</td>\n",
       "      <td>9,646.34</td>\n",
       "      <td>9,691.80</td>\n",
       "    </tr>\n",
       "    <tr>\n",
       "      <th>2</th>\n",
       "      <td>106/03/03</td>\n",
       "      <td>9,672.26</td>\n",
       "      <td>9,679.82</td>\n",
       "      <td>9,633.88</td>\n",
       "      <td>9,648.21</td>\n",
       "    </tr>\n",
       "    <tr>\n",
       "      <th>3</th>\n",
       "      <td>106/03/06</td>\n",
       "      <td>9,647.00</td>\n",
       "      <td>9,688.50</td>\n",
       "      <td>9,647.00</td>\n",
       "      <td>9,682.63</td>\n",
       "    </tr>\n",
       "    <tr>\n",
       "      <th>4</th>\n",
       "      <td>106/03/07</td>\n",
       "      <td>9,690.26</td>\n",
       "      <td>9,738.07</td>\n",
       "      <td>9,690.20</td>\n",
       "      <td>9,738.07</td>\n",
       "    </tr>\n",
       "    <tr>\n",
       "      <th>5</th>\n",
       "      <td>106/03/08</td>\n",
       "      <td>9,744.26</td>\n",
       "      <td>9,773.49</td>\n",
       "      <td>9,712.50</td>\n",
       "      <td>9,753.45</td>\n",
       "    </tr>\n",
       "    <tr>\n",
       "      <th>6</th>\n",
       "      <td>106/03/09</td>\n",
       "      <td>9,740.05</td>\n",
       "      <td>9,743.78</td>\n",
       "      <td>9,650.32</td>\n",
       "      <td>9,658.61</td>\n",
       "    </tr>\n",
       "    <tr>\n",
       "      <th>7</th>\n",
       "      <td>106/03/10</td>\n",
       "      <td>9,653.79</td>\n",
       "      <td>9,656.65</td>\n",
       "      <td>9,562.75</td>\n",
       "      <td>9,627.89</td>\n",
       "    </tr>\n",
       "    <tr>\n",
       "      <th>8</th>\n",
       "      <td>106/03/13</td>\n",
       "      <td>9,656.56</td>\n",
       "      <td>9,697.34</td>\n",
       "      <td>9,656.56</td>\n",
       "      <td>9,697.34</td>\n",
       "    </tr>\n",
       "    <tr>\n",
       "      <th>9</th>\n",
       "      <td>106/03/14</td>\n",
       "      <td>9,720.53</td>\n",
       "      <td>9,767.66</td>\n",
       "      <td>9,720.53</td>\n",
       "      <td>9,744.21</td>\n",
       "    </tr>\n",
       "    <tr>\n",
       "      <th>10</th>\n",
       "      <td>106/03/15</td>\n",
       "      <td>9,741.29</td>\n",
       "      <td>9,749.01</td>\n",
       "      <td>9,714.58</td>\n",
       "      <td>9,740.31</td>\n",
       "    </tr>\n",
       "    <tr>\n",
       "      <th>11</th>\n",
       "      <td>106/03/16</td>\n",
       "      <td>9,768.85</td>\n",
       "      <td>9,842.17</td>\n",
       "      <td>9,768.85</td>\n",
       "      <td>9,837.83</td>\n",
       "    </tr>\n",
       "    <tr>\n",
       "      <th>12</th>\n",
       "      <td>106/03/17</td>\n",
       "      <td>9,845.59</td>\n",
       "      <td>9,908.69</td>\n",
       "      <td>9,835.51</td>\n",
       "      <td>9,908.69</td>\n",
       "    </tr>\n",
       "    <tr>\n",
       "      <th>13</th>\n",
       "      <td>106/03/20</td>\n",
       "      <td>9,905.81</td>\n",
       "      <td>9,916.18</td>\n",
       "      <td>9,869.35</td>\n",
       "      <td>9,912.97</td>\n",
       "    </tr>\n",
       "    <tr>\n",
       "      <th>14</th>\n",
       "      <td>106/03/21</td>\n",
       "      <td>9,923.18</td>\n",
       "      <td>9,976.61</td>\n",
       "      <td>9,918.39</td>\n",
       "      <td>9,972.49</td>\n",
       "    </tr>\n",
       "    <tr>\n",
       "      <th>15</th>\n",
       "      <td>106/03/22</td>\n",
       "      <td>9,911.96</td>\n",
       "      <td>9,922.66</td>\n",
       "      <td>9,843.07</td>\n",
       "      <td>9,922.66</td>\n",
       "    </tr>\n",
       "    <tr>\n",
       "      <th>16</th>\n",
       "      <td>106/03/23</td>\n",
       "      <td>9,921.97</td>\n",
       "      <td>9,945.24</td>\n",
       "      <td>9,897.45</td>\n",
       "      <td>9,930.74</td>\n",
       "    </tr>\n",
       "    <tr>\n",
       "      <th>17</th>\n",
       "      <td>106/03/24</td>\n",
       "      <td>9,914.12</td>\n",
       "      <td>9,932.68</td>\n",
       "      <td>9,892.31</td>\n",
       "      <td>9,902.98</td>\n",
       "    </tr>\n",
       "  </tbody>\n",
       "</table>\n",
       "</div>"
      ],
      "text/plain": [
       "            日期       開盤指數       最高指數       最低指數       收盤指數\n",
       "0    106/03/01   9,751.12   9,758.78   9,674.78   9,674.78\n",
       "1    106/03/02   9,727.60   9,774.60   9,646.34   9,691.80\n",
       "2    106/03/03   9,672.26   9,679.82   9,633.88   9,648.21\n",
       "3    106/03/06   9,647.00   9,688.50   9,647.00   9,682.63\n",
       "4    106/03/07   9,690.26   9,738.07   9,690.20   9,738.07\n",
       "5    106/03/08   9,744.26   9,773.49   9,712.50   9,753.45\n",
       "6    106/03/09   9,740.05   9,743.78   9,650.32   9,658.61\n",
       "7    106/03/10   9,653.79   9,656.65   9,562.75   9,627.89\n",
       "8    106/03/13   9,656.56   9,697.34   9,656.56   9,697.34\n",
       "9    106/03/14   9,720.53   9,767.66   9,720.53   9,744.21\n",
       "10   106/03/15   9,741.29   9,749.01   9,714.58   9,740.31\n",
       "11   106/03/16   9,768.85   9,842.17   9,768.85   9,837.83\n",
       "12   106/03/17   9,845.59   9,908.69   9,835.51   9,908.69\n",
       "13   106/03/20   9,905.81   9,916.18   9,869.35   9,912.97\n",
       "14   106/03/21   9,923.18   9,976.61   9,918.39   9,972.49\n",
       "15   106/03/22   9,911.96   9,922.66   9,843.07   9,922.66\n",
       "16   106/03/23   9,921.97   9,945.24   9,897.45   9,930.74\n",
       "17   106/03/24   9,914.12   9,932.68   9,892.31   9,902.98"
      ]
     },
     "execution_count": 22,
     "metadata": {},
     "output_type": "execute_result"
    }
   ],
   "source": [
    "df.drop(df.index[len(df.index)-1], inplace=True)\n",
    "df"
   ]
  },
  {
   "cell_type": "markdown",
   "metadata": {},
   "source": [
    "### 使用 read_html() 讀取資料\n",
    "\n",
    "參考連結：[pandas.read_html](http://pandas.pydata.org/pandas-docs/stable/generated/pandas.read_html.html)"
   ]
  },
  {
   "cell_type": "code",
   "execution_count": 23,
   "metadata": {},
   "outputs": [],
   "source": [
    "import requests\n",
    "from bs4 import BeautifulSoup"
   ]
  },
  {
   "cell_type": "code",
   "execution_count": 24,
   "metadata": {},
   "outputs": [],
   "source": [
    "r = requests.get(\"http://www.tse.com.tw/ch/trading/indices/MI_5MINS_HIST/MI_5MINS_HIST.php\")\n",
    "r.encoding = 'Big5'"
   ]
  },
  {
   "cell_type": "code",
   "execution_count": 25,
   "metadata": {},
   "outputs": [
    {
     "data": {
      "text/plain": [
       "[]"
      ]
     },
     "execution_count": 25,
     "metadata": {},
     "output_type": "execute_result"
    }
   ],
   "source": [
    "soup = BeautifulSoup(r.text, \"lxml\")\n",
    "tables = soup.select(\"table.board_trad\")\n",
    "tables"
   ]
  },
  {
   "cell_type": "code",
   "execution_count": 26,
   "metadata": {},
   "outputs": [
    {
     "ename": "IndexError",
     "evalue": "list index out of range",
     "output_type": "error",
     "traceback": [
      "\u001b[1;31m---------------------------------------------------------------------------\u001b[0m",
      "\u001b[1;31mIndexError\u001b[0m                                Traceback (most recent call last)",
      "\u001b[1;32m<ipython-input-26-f1fcb4283b51>\u001b[0m in \u001b[0;36m<module>\u001b[1;34m()\u001b[0m\n\u001b[1;32m----> 1\u001b[1;33m \u001b[0mtype\u001b[0m\u001b[1;33m(\u001b[0m\u001b[0mtables\u001b[0m\u001b[1;33m[\u001b[0m\u001b[1;36m0\u001b[0m\u001b[1;33m]\u001b[0m\u001b[1;33m)\u001b[0m\u001b[1;33m\u001b[0m\u001b[0m\n\u001b[0m",
      "\u001b[1;31mIndexError\u001b[0m: list index out of range"
     ]
    }
   ],
   "source": [
    "type(tables[0])"
   ]
  },
  {
   "cell_type": "code",
   "execution_count": null,
   "metadata": {},
   "outputs": [],
   "source": [
    "df_list = pd.read_html(str(tables[0]), header=1)"
   ]
  },
  {
   "cell_type": "code",
   "execution_count": null,
   "metadata": {},
   "outputs": [],
   "source": [
    "df_list[0]"
   ]
  },
  {
   "cell_type": "markdown",
   "metadata": {},
   "source": [
    "### 使用 Pandas 讀取股價資訊\n",
    "\n",
    "參考資料：[pandas-datareadre 說明文件](https://pandas-datareader.readthedocs.io/en/latest/)"
   ]
  },
  {
   "cell_type": "code",
   "execution_count": 28,
   "metadata": {},
   "outputs": [],
   "source": [
    "# 網路上有人提到在使用pandas_datareader前加入這一行，果然可以\n",
    "# ref: https://stackoverflow.com/questions/50394873/import-pandas-datareader-gives-importerror-cannot-import-name-is-list-like\n",
    "import pandas as pd\n",
    "pd.core.common.is_list_like = pd.api.types.is_list_like\n",
    "\n",
    "import pandas_datareader.data as web\n",
    "from datetime import datetime"
   ]
  },
  {
   "cell_type": "code",
   "execution_count": 29,
   "metadata": {
    "collapsed": true
   },
   "outputs": [
    {
     "name": "stderr",
     "output_type": "stream",
     "text": [
      "C:\\Users\\Malo\\Anaconda3\\lib\\site-packages\\pandas_datareader\\google\\daily.py:40: UnstableAPIWarning: \n",
      "The Google Finance API has not been stable since late 2017. Requests seem\n",
      "to fail at random. Failure is especially common when bulk downloading.\n",
      "\n",
      "  warnings.warn(UNSTABLE_WARNING, UnstableAPIWarning)\n"
     ]
    },
    {
     "ename": "RemoteDataError",
     "evalue": "Unable to read URL: https://finance.google.com/finance/historical?q=TSLA&startdate=Jan+01%2C+2016&enddate=Aug+27%2C+2018&output=csv\nResponse Text:\nb'<html><head><meta http-equiv=\"content-type\" content=\"text/html; charset=utf-8\"/><title>Sorry...</title><style> body { font-family: verdana, arial, sans-serif; background-color: #fff; color: #000; }</style></head><body><div><table><tr><td><b><font face=sans-serif size=10><font color=#4285f4>G</font><font color=#ea4335>o</font><font color=#fbbc05>o</font><font color=#4285f4>g</font><font color=#34a853>l</font><font color=#ea4335>e</font></font></b></td><td style=\"text-align: left; vertical-align: bottom; padding-bottom: 15px; width: 50%\"><div style=\"border-bottom: 1px solid #dfdfdf;\">Sorry...</div></td></tr></table></div><div style=\"margin-left: 4em;\"><h1>We\\'re sorry...</h1><p>... but your computer or network may be sending automated queries. To protect our users, we can\\'t process your request right now.</p></div><div style=\"margin-left: 4em;\">See <a href=\"https://support.google.com/websearch/answer/86640\">Google Help</a> for more information.<br/><br/></div><div style=\"text-align: center; border-top: 1px solid #dfdfdf;\"><a href=\"https://www.google.com\">Google Home</a></div></body></html>'",
     "output_type": "error",
     "traceback": [
      "\u001b[1;31m---------------------------------------------------------------------------\u001b[0m",
      "\u001b[1;31mRemoteDataError\u001b[0m                           Traceback (most recent call last)",
      "\u001b[1;32m<ipython-input-29-a8f4621868b2>\u001b[0m in \u001b[0;36m<module>\u001b[1;34m()\u001b[0m\n\u001b[1;32m----> 1\u001b[1;33m \u001b[0mdf\u001b[0m \u001b[1;33m=\u001b[0m \u001b[0mweb\u001b[0m\u001b[1;33m.\u001b[0m\u001b[0mDataReader\u001b[0m\u001b[1;33m(\u001b[0m\u001b[1;34m\"TSLA\"\u001b[0m\u001b[1;33m,\u001b[0m \u001b[1;34m'google'\u001b[0m\u001b[1;33m,\u001b[0m \u001b[0mdatetime\u001b[0m\u001b[1;33m(\u001b[0m\u001b[1;36m2016\u001b[0m\u001b[1;33m,\u001b[0m\u001b[1;36m1\u001b[0m\u001b[1;33m,\u001b[0m\u001b[1;36m1\u001b[0m\u001b[1;33m)\u001b[0m\u001b[1;33m)\u001b[0m\u001b[1;33m\u001b[0m\u001b[0m\n\u001b[0m\u001b[0;32m      2\u001b[0m \u001b[0mdf\u001b[0m\u001b[1;33m[\u001b[0m\u001b[1;34m'Close'\u001b[0m\u001b[1;33m]\u001b[0m\u001b[1;33m.\u001b[0m\u001b[0mplot\u001b[0m\u001b[1;33m(\u001b[0m\u001b[1;33m)\u001b[0m\u001b[1;33m\u001b[0m\u001b[0m\n",
      "\u001b[1;32m~\\Anaconda3\\lib\\site-packages\\pandas_datareader\\data.py\u001b[0m in \u001b[0;36mDataReader\u001b[1;34m(name, data_source, start, end, retry_count, pause, session, access_key)\u001b[0m\n\u001b[0;32m    313\u001b[0m                                  \u001b[0mchunksize\u001b[0m\u001b[1;33m=\u001b[0m\u001b[1;36m25\u001b[0m\u001b[1;33m,\u001b[0m\u001b[1;33m\u001b[0m\u001b[0m\n\u001b[0;32m    314\u001b[0m                                  \u001b[0mretry_count\u001b[0m\u001b[1;33m=\u001b[0m\u001b[0mretry_count\u001b[0m\u001b[1;33m,\u001b[0m \u001b[0mpause\u001b[0m\u001b[1;33m=\u001b[0m\u001b[0mpause\u001b[0m\u001b[1;33m,\u001b[0m\u001b[1;33m\u001b[0m\u001b[0m\n\u001b[1;32m--> 315\u001b[1;33m                                  session=session).read()\n\u001b[0m\u001b[0;32m    316\u001b[0m \u001b[1;33m\u001b[0m\u001b[0m\n\u001b[0;32m    317\u001b[0m     \u001b[1;32melif\u001b[0m \u001b[0mdata_source\u001b[0m \u001b[1;33m==\u001b[0m \u001b[1;34m\"iex\"\u001b[0m\u001b[1;33m:\u001b[0m\u001b[1;33m\u001b[0m\u001b[0m\n",
      "\u001b[1;32m~\\Anaconda3\\lib\\site-packages\\pandas_datareader\\base.py\u001b[0m in \u001b[0;36mread\u001b[1;34m(self)\u001b[0m\n\u001b[0;32m    204\u001b[0m         \u001b[1;32mif\u001b[0m \u001b[0misinstance\u001b[0m\u001b[1;33m(\u001b[0m\u001b[0mself\u001b[0m\u001b[1;33m.\u001b[0m\u001b[0msymbols\u001b[0m\u001b[1;33m,\u001b[0m \u001b[1;33m(\u001b[0m\u001b[0mcompat\u001b[0m\u001b[1;33m.\u001b[0m\u001b[0mstring_types\u001b[0m\u001b[1;33m,\u001b[0m \u001b[0mint\u001b[0m\u001b[1;33m)\u001b[0m\u001b[1;33m)\u001b[0m\u001b[1;33m:\u001b[0m\u001b[1;33m\u001b[0m\u001b[0m\n\u001b[0;32m    205\u001b[0m             df = self._read_one_data(self.url,\n\u001b[1;32m--> 206\u001b[1;33m                                      params=self._get_params(self.symbols))\n\u001b[0m\u001b[0;32m    207\u001b[0m         \u001b[1;31m# Or multiple symbols, (e.g., ['GOOG', 'AAPL', 'MSFT'])\u001b[0m\u001b[1;33m\u001b[0m\u001b[1;33m\u001b[0m\u001b[0m\n\u001b[0;32m    208\u001b[0m         \u001b[1;32melif\u001b[0m \u001b[0misinstance\u001b[0m\u001b[1;33m(\u001b[0m\u001b[0mself\u001b[0m\u001b[1;33m.\u001b[0m\u001b[0msymbols\u001b[0m\u001b[1;33m,\u001b[0m \u001b[0mDataFrame\u001b[0m\u001b[1;33m)\u001b[0m\u001b[1;33m:\u001b[0m\u001b[1;33m\u001b[0m\u001b[0m\n",
      "\u001b[1;32m~\\Anaconda3\\lib\\site-packages\\pandas_datareader\\base.py\u001b[0m in \u001b[0;36m_read_one_data\u001b[1;34m(self, url, params)\u001b[0m\n\u001b[0;32m     82\u001b[0m         \u001b[1;34m\"\"\" read one data from specified URL \"\"\"\u001b[0m\u001b[1;33m\u001b[0m\u001b[0m\n\u001b[0;32m     83\u001b[0m         \u001b[1;32mif\u001b[0m \u001b[0mself\u001b[0m\u001b[1;33m.\u001b[0m\u001b[0m_format\u001b[0m \u001b[1;33m==\u001b[0m \u001b[1;34m'string'\u001b[0m\u001b[1;33m:\u001b[0m\u001b[1;33m\u001b[0m\u001b[0m\n\u001b[1;32m---> 84\u001b[1;33m             \u001b[0mout\u001b[0m \u001b[1;33m=\u001b[0m \u001b[0mself\u001b[0m\u001b[1;33m.\u001b[0m\u001b[0m_read_url_as_StringIO\u001b[0m\u001b[1;33m(\u001b[0m\u001b[0murl\u001b[0m\u001b[1;33m,\u001b[0m \u001b[0mparams\u001b[0m\u001b[1;33m=\u001b[0m\u001b[0mparams\u001b[0m\u001b[1;33m)\u001b[0m\u001b[1;33m\u001b[0m\u001b[0m\n\u001b[0m\u001b[0;32m     85\u001b[0m         \u001b[1;32melif\u001b[0m \u001b[0mself\u001b[0m\u001b[1;33m.\u001b[0m\u001b[0m_format\u001b[0m \u001b[1;33m==\u001b[0m \u001b[1;34m'json'\u001b[0m\u001b[1;33m:\u001b[0m\u001b[1;33m\u001b[0m\u001b[0m\n\u001b[0;32m     86\u001b[0m             \u001b[0mout\u001b[0m \u001b[1;33m=\u001b[0m \u001b[0mself\u001b[0m\u001b[1;33m.\u001b[0m\u001b[0m_get_response\u001b[0m\u001b[1;33m(\u001b[0m\u001b[0murl\u001b[0m\u001b[1;33m,\u001b[0m \u001b[0mparams\u001b[0m\u001b[1;33m=\u001b[0m\u001b[0mparams\u001b[0m\u001b[1;33m)\u001b[0m\u001b[1;33m.\u001b[0m\u001b[0mjson\u001b[0m\u001b[1;33m(\u001b[0m\u001b[1;33m)\u001b[0m\u001b[1;33m\u001b[0m\u001b[0m\n",
      "\u001b[1;32m~\\Anaconda3\\lib\\site-packages\\pandas_datareader\\base.py\u001b[0m in \u001b[0;36m_read_url_as_StringIO\u001b[1;34m(self, url, params)\u001b[0m\n\u001b[0;32m     93\u001b[0m         \u001b[0mOpen\u001b[0m \u001b[0murl\u001b[0m \u001b[1;33m(\u001b[0m\u001b[1;32mand\u001b[0m \u001b[0mretry\u001b[0m\u001b[1;33m)\u001b[0m\u001b[1;33m\u001b[0m\u001b[0m\n\u001b[0;32m     94\u001b[0m         \"\"\"\n\u001b[1;32m---> 95\u001b[1;33m         \u001b[0mresponse\u001b[0m \u001b[1;33m=\u001b[0m \u001b[0mself\u001b[0m\u001b[1;33m.\u001b[0m\u001b[0m_get_response\u001b[0m\u001b[1;33m(\u001b[0m\u001b[0murl\u001b[0m\u001b[1;33m,\u001b[0m \u001b[0mparams\u001b[0m\u001b[1;33m=\u001b[0m\u001b[0mparams\u001b[0m\u001b[1;33m)\u001b[0m\u001b[1;33m\u001b[0m\u001b[0m\n\u001b[0m\u001b[0;32m     96\u001b[0m         \u001b[0mtext\u001b[0m \u001b[1;33m=\u001b[0m \u001b[0mself\u001b[0m\u001b[1;33m.\u001b[0m\u001b[0m_sanitize_response\u001b[0m\u001b[1;33m(\u001b[0m\u001b[0mresponse\u001b[0m\u001b[1;33m)\u001b[0m\u001b[1;33m\u001b[0m\u001b[0m\n\u001b[0;32m     97\u001b[0m         \u001b[0mout\u001b[0m \u001b[1;33m=\u001b[0m \u001b[0mStringIO\u001b[0m\u001b[1;33m(\u001b[0m\u001b[1;33m)\u001b[0m\u001b[1;33m\u001b[0m\u001b[0m\n",
      "\u001b[1;32m~\\Anaconda3\\lib\\site-packages\\pandas_datareader\\base.py\u001b[0m in \u001b[0;36m_get_response\u001b[1;34m(self, url, params, headers)\u001b[0m\n\u001b[0;32m    153\u001b[0m             \u001b[0mmsg\u001b[0m \u001b[1;33m+=\u001b[0m \u001b[1;34m'\\nResponse Text:\\n{0}'\u001b[0m\u001b[1;33m.\u001b[0m\u001b[0mformat\u001b[0m\u001b[1;33m(\u001b[0m\u001b[0mlast_response_text\u001b[0m\u001b[1;33m)\u001b[0m\u001b[1;33m\u001b[0m\u001b[0m\n\u001b[0;32m    154\u001b[0m \u001b[1;33m\u001b[0m\u001b[0m\n\u001b[1;32m--> 155\u001b[1;33m         \u001b[1;32mraise\u001b[0m \u001b[0mRemoteDataError\u001b[0m\u001b[1;33m(\u001b[0m\u001b[0mmsg\u001b[0m\u001b[1;33m)\u001b[0m\u001b[1;33m\u001b[0m\u001b[0m\n\u001b[0m\u001b[0;32m    156\u001b[0m \u001b[1;33m\u001b[0m\u001b[0m\n\u001b[0;32m    157\u001b[0m     \u001b[1;32mdef\u001b[0m \u001b[0m_get_crumb\u001b[0m\u001b[1;33m(\u001b[0m\u001b[0mself\u001b[0m\u001b[1;33m,\u001b[0m \u001b[1;33m*\u001b[0m\u001b[0margs\u001b[0m\u001b[1;33m)\u001b[0m\u001b[1;33m:\u001b[0m\u001b[1;33m\u001b[0m\u001b[0m\n",
      "\u001b[1;31mRemoteDataError\u001b[0m: Unable to read URL: https://finance.google.com/finance/historical?q=TSLA&startdate=Jan+01%2C+2016&enddate=Aug+27%2C+2018&output=csv\nResponse Text:\nb'<html><head><meta http-equiv=\"content-type\" content=\"text/html; charset=utf-8\"/><title>Sorry...</title><style> body { font-family: verdana, arial, sans-serif; background-color: #fff; color: #000; }</style></head><body><div><table><tr><td><b><font face=sans-serif size=10><font color=#4285f4>G</font><font color=#ea4335>o</font><font color=#fbbc05>o</font><font color=#4285f4>g</font><font color=#34a853>l</font><font color=#ea4335>e</font></font></b></td><td style=\"text-align: left; vertical-align: bottom; padding-bottom: 15px; width: 50%\"><div style=\"border-bottom: 1px solid #dfdfdf;\">Sorry...</div></td></tr></table></div><div style=\"margin-left: 4em;\"><h1>We\\'re sorry...</h1><p>... but your computer or network may be sending automated queries. To protect our users, we can\\'t process your request right now.</p></div><div style=\"margin-left: 4em;\">See <a href=\"https://support.google.com/websearch/answer/86640\">Google Help</a> for more information.<br/><br/></div><div style=\"text-align: center; border-top: 1px solid #dfdfdf;\"><a href=\"https://www.google.com\">Google Home</a></div></body></html>'"
     ]
    }
   ],
   "source": [
    "df = web.DataReader(\"TSLA\", 'google', datetime(2016,1,1))\n",
    "df['Close'].plot()"
   ]
  },
  {
   "cell_type": "markdown",
   "metadata": {},
   "source": [
    "## 資料視覺化\n",
    "\n",
    "Series 跟 DataFrame 都附帶有一個產生各類圖表的 plot()，預設的情況下，它會產生線形圖。\n",
    "\n",
    "參考資料：[Pandas Plotting](http://pandas.pydata.org/pandas-docs/stable/visualization.html)"
   ]
  },
  {
   "cell_type": "code",
   "execution_count": 30,
   "metadata": {},
   "outputs": [
    {
     "data": {
      "text/plain": [
       "<matplotlib.axes._subplots.AxesSubplot at 0xbc9930>"
      ]
     },
     "execution_count": 30,
     "metadata": {},
     "output_type": "execute_result"
    },
    {
     "data": {
      "image/png": "[encoded data removed]",
      "text/plain": [
       "<Figure size 432x288 with 1 Axes>"
      ]
     },
     "metadata": {},
     "output_type": "display_data"
    }
   ],
   "source": [
    "s = pd.Series(np.random.randn(10), index=np.arange(10))\n",
    "s.plot()"
   ]
  },
  {
   "cell_type": "code",
   "execution_count": 31,
   "metadata": {},
   "outputs": [
    {
     "data": {
      "text/plain": [
       "<matplotlib.axes._subplots.AxesSubplot at 0x14db2d0>"
      ]
     },
     "execution_count": 31,
     "metadata": {},
     "output_type": "execute_result"
    },
    {
     "data": {
      "image/png": "[encoded data removed]",
      "text/plain": [
       "<Figure size 432x288 with 1 Axes>"
      ]
     },
     "metadata": {},
     "output_type": "display_data"
    }
   ],
   "source": [
    "s.plot(kind=\"bar\")"
   ]
  },
  {
   "cell_type": "code",
   "execution_count": 32,
   "metadata": {},
   "outputs": [
    {
     "data": {
      "text/plain": [
       "<matplotlib.axes._subplots.AxesSubplot at 0x153f670>"
      ]
     },
     "execution_count": 32,
     "metadata": {},
     "output_type": "execute_result"
    },
    {
     "data": {
      "image/png": "[encoded data removed]",
      "text/plain": [
       "<Figure size 432x288 with 1 Axes>"
      ]
     },
     "metadata": {},
     "output_type": "display_data"
    }
   ],
   "source": [
    "df = pd.DataFrame(np.random.randn(10, 4), columns=list('ABCD'))\n",
    "df.plot()"
   ]
  },
  {
   "cell_type": "code",
   "execution_count": 33,
   "metadata": {},
   "outputs": [
    {
     "data": {
      "text/plain": [
       "<matplotlib.axes._subplots.AxesSubplot at 0x1597370>"
      ]
     },
     "execution_count": 33,
     "metadata": {},
     "output_type": "execute_result"
    },
    {
     "data": {
      "image/png": "[encoded data removed]",
      "text/plain": [
       "<Figure size 432x288 with 1 Axes>"
      ]
     },
     "metadata": {},
     "output_type": "display_data"
    }
   ],
   "source": [
    "df.plot(kind='bar')"
   ]
  },
  {
   "cell_type": "markdown",
   "metadata": {},
   "source": [
    "## 資料分組與聚合"
   ]
  },
  {
   "cell_type": "code",
   "execution_count": 34,
   "metadata": {},
   "outputs": [],
   "source": [
    "data = np.random.randn(10, 4)"
   ]
  },
  {
   "cell_type": "code",
   "execution_count": 35,
   "metadata": {},
   "outputs": [
    {
     "data": {
      "text/html": [
       "<div>\n",
       "<style scoped>\n",
       "    .dataframe tbody tr th:only-of-type {\n",
       "        vertical-align: middle;\n",
       "    }\n",
       "\n",
       "    .dataframe tbody tr th {\n",
       "        vertical-align: top;\n",
       "    }\n",
       "\n",
       "    .dataframe thead th {\n",
       "        text-align: right;\n",
       "    }\n",
       "</style>\n",
       "<table border=\"1\" class=\"dataframe\">\n",
       "  <thead>\n",
       "    <tr style=\"text-align: right;\">\n",
       "      <th></th>\n",
       "      <th>No1</th>\n",
       "      <th>No2</th>\n",
       "      <th>No3</th>\n",
       "      <th>No4</th>\n",
       "    </tr>\n",
       "  </thead>\n",
       "  <tbody>\n",
       "    <tr>\n",
       "      <th>0</th>\n",
       "      <td>-0.210793</td>\n",
       "      <td>-0.518460</td>\n",
       "      <td>0.715929</td>\n",
       "      <td>-1.617862</td>\n",
       "    </tr>\n",
       "    <tr>\n",
       "      <th>1</th>\n",
       "      <td>1.026097</td>\n",
       "      <td>0.464711</td>\n",
       "      <td>-0.773828</td>\n",
       "      <td>1.219992</td>\n",
       "    </tr>\n",
       "    <tr>\n",
       "      <th>2</th>\n",
       "      <td>-2.067314</td>\n",
       "      <td>-0.255736</td>\n",
       "      <td>0.464411</td>\n",
       "      <td>-1.272690</td>\n",
       "    </tr>\n",
       "    <tr>\n",
       "      <th>3</th>\n",
       "      <td>0.124274</td>\n",
       "      <td>-1.587399</td>\n",
       "      <td>0.474326</td>\n",
       "      <td>0.323018</td>\n",
       "    </tr>\n",
       "    <tr>\n",
       "      <th>4</th>\n",
       "      <td>0.575166</td>\n",
       "      <td>-1.549705</td>\n",
       "      <td>-1.186413</td>\n",
       "      <td>1.872610</td>\n",
       "    </tr>\n",
       "    <tr>\n",
       "      <th>5</th>\n",
       "      <td>-1.656830</td>\n",
       "      <td>0.721160</td>\n",
       "      <td>-0.965723</td>\n",
       "      <td>1.276203</td>\n",
       "    </tr>\n",
       "    <tr>\n",
       "      <th>6</th>\n",
       "      <td>-1.525263</td>\n",
       "      <td>0.539800</td>\n",
       "      <td>-0.699614</td>\n",
       "      <td>1.208192</td>\n",
       "    </tr>\n",
       "    <tr>\n",
       "      <th>7</th>\n",
       "      <td>-0.341133</td>\n",
       "      <td>-0.950700</td>\n",
       "      <td>-0.498243</td>\n",
       "      <td>-1.635750</td>\n",
       "    </tr>\n",
       "    <tr>\n",
       "      <th>8</th>\n",
       "      <td>-0.597655</td>\n",
       "      <td>1.911860</td>\n",
       "      <td>1.455107</td>\n",
       "      <td>-0.316692</td>\n",
       "    </tr>\n",
       "    <tr>\n",
       "      <th>9</th>\n",
       "      <td>1.060322</td>\n",
       "      <td>0.446582</td>\n",
       "      <td>-0.012720</td>\n",
       "      <td>0.824608</td>\n",
       "    </tr>\n",
       "  </tbody>\n",
       "</table>\n",
       "</div>"
      ],
      "text/plain": [
       "        No1       No2       No3       No4\n",
       "0 -0.210793 -0.518460  0.715929 -1.617862\n",
       "1  1.026097  0.464711 -0.773828  1.219992\n",
       "2 -2.067314 -0.255736  0.464411 -1.272690\n",
       "3  0.124274 -1.587399  0.474326  0.323018\n",
       "4  0.575166 -1.549705 -1.186413  1.872610\n",
       "5 -1.656830  0.721160 -0.965723  1.276203\n",
       "6 -1.525263  0.539800 -0.699614  1.208192\n",
       "7 -0.341133 -0.950700 -0.498243 -1.635750\n",
       "8 -0.597655  1.911860  1.455107 -0.316692\n",
       "9  1.060322  0.446582 -0.012720  0.824608"
      ]
     },
     "execution_count": 35,
     "metadata": {},
     "output_type": "execute_result"
    }
   ],
   "source": [
    "df = pd.DataFrame(data, columns=['No1', 'No2', 'No3', 'No4'])\n",
    "df"
   ]
  },
  {
   "cell_type": "code",
   "execution_count": 36,
   "metadata": {},
   "outputs": [
    {
     "data": {
      "text/html": [
       "<div>\n",
       "<style scoped>\n",
       "    .dataframe tbody tr th:only-of-type {\n",
       "        vertical-align: middle;\n",
       "    }\n",
       "\n",
       "    .dataframe tbody tr th {\n",
       "        vertical-align: top;\n",
       "    }\n",
       "\n",
       "    .dataframe thead th {\n",
       "        text-align: right;\n",
       "    }\n",
       "</style>\n",
       "<table border=\"1\" class=\"dataframe\">\n",
       "  <thead>\n",
       "    <tr style=\"text-align: right;\">\n",
       "      <th></th>\n",
       "      <th>No1</th>\n",
       "      <th>No2</th>\n",
       "      <th>No3</th>\n",
       "      <th>No4</th>\n",
       "      <th>Category</th>\n",
       "    </tr>\n",
       "  </thead>\n",
       "  <tbody>\n",
       "    <tr>\n",
       "      <th>0</th>\n",
       "      <td>-0.210793</td>\n",
       "      <td>-0.518460</td>\n",
       "      <td>0.715929</td>\n",
       "      <td>-1.617862</td>\n",
       "      <td>NaN</td>\n",
       "    </tr>\n",
       "    <tr>\n",
       "      <th>1</th>\n",
       "      <td>1.026097</td>\n",
       "      <td>0.464711</td>\n",
       "      <td>-0.773828</td>\n",
       "      <td>1.219992</td>\n",
       "      <td>NaN</td>\n",
       "    </tr>\n",
       "    <tr>\n",
       "      <th>2</th>\n",
       "      <td>-2.067314</td>\n",
       "      <td>-0.255736</td>\n",
       "      <td>0.464411</td>\n",
       "      <td>-1.272690</td>\n",
       "      <td>NaN</td>\n",
       "    </tr>\n",
       "    <tr>\n",
       "      <th>3</th>\n",
       "      <td>0.124274</td>\n",
       "      <td>-1.587399</td>\n",
       "      <td>0.474326</td>\n",
       "      <td>0.323018</td>\n",
       "      <td>NaN</td>\n",
       "    </tr>\n",
       "    <tr>\n",
       "      <th>4</th>\n",
       "      <td>0.575166</td>\n",
       "      <td>-1.549705</td>\n",
       "      <td>-1.186413</td>\n",
       "      <td>1.872610</td>\n",
       "      <td>NaN</td>\n",
       "    </tr>\n",
       "    <tr>\n",
       "      <th>5</th>\n",
       "      <td>-1.656830</td>\n",
       "      <td>0.721160</td>\n",
       "      <td>-0.965723</td>\n",
       "      <td>1.276203</td>\n",
       "      <td>NaN</td>\n",
       "    </tr>\n",
       "    <tr>\n",
       "      <th>6</th>\n",
       "      <td>-1.525263</td>\n",
       "      <td>0.539800</td>\n",
       "      <td>-0.699614</td>\n",
       "      <td>1.208192</td>\n",
       "      <td>NaN</td>\n",
       "    </tr>\n",
       "    <tr>\n",
       "      <th>7</th>\n",
       "      <td>-0.341133</td>\n",
       "      <td>-0.950700</td>\n",
       "      <td>-0.498243</td>\n",
       "      <td>-1.635750</td>\n",
       "      <td>NaN</td>\n",
       "    </tr>\n",
       "    <tr>\n",
       "      <th>8</th>\n",
       "      <td>-0.597655</td>\n",
       "      <td>1.911860</td>\n",
       "      <td>1.455107</td>\n",
       "      <td>-0.316692</td>\n",
       "      <td>NaN</td>\n",
       "    </tr>\n",
       "    <tr>\n",
       "      <th>9</th>\n",
       "      <td>1.060322</td>\n",
       "      <td>0.446582</td>\n",
       "      <td>-0.012720</td>\n",
       "      <td>0.824608</td>\n",
       "      <td>NaN</td>\n",
       "    </tr>\n",
       "  </tbody>\n",
       "</table>\n",
       "</div>"
      ],
      "text/plain": [
       "        No1       No2       No3       No4  Category\n",
       "0 -0.210793 -0.518460  0.715929 -1.617862       NaN\n",
       "1  1.026097  0.464711 -0.773828  1.219992       NaN\n",
       "2 -2.067314 -0.255736  0.464411 -1.272690       NaN\n",
       "3  0.124274 -1.587399  0.474326  0.323018       NaN\n",
       "4  0.575166 -1.549705 -1.186413  1.872610       NaN\n",
       "5 -1.656830  0.721160 -0.965723  1.276203       NaN\n",
       "6 -1.525263  0.539800 -0.699614  1.208192       NaN\n",
       "7 -0.341133 -0.950700 -0.498243 -1.635750       NaN\n",
       "8 -0.597655  1.911860  1.455107 -0.316692       NaN\n",
       "9  1.060322  0.446582 -0.012720  0.824608       NaN"
      ]
     },
     "execution_count": 36,
     "metadata": {},
     "output_type": "execute_result"
    }
   ],
   "source": [
    "df['Category'] = np.NaN\n",
    "df"
   ]
  },
  {
   "cell_type": "code",
   "execution_count": 37,
   "metadata": {},
   "outputs": [],
   "source": [
    "clist = ['C1'] * 3 + ['C2'] * 5 + ['C3'] * 2"
   ]
  },
  {
   "cell_type": "code",
   "execution_count": 38,
   "metadata": {},
   "outputs": [],
   "source": [
    "df['Category'] = np.random.permutation(clist)"
   ]
  },
  {
   "cell_type": "code",
   "execution_count": 39,
   "metadata": {},
   "outputs": [
    {
     "data": {
      "text/html": [
       "<div>\n",
       "<style scoped>\n",
       "    .dataframe tbody tr th:only-of-type {\n",
       "        vertical-align: middle;\n",
       "    }\n",
       "\n",
       "    .dataframe tbody tr th {\n",
       "        vertical-align: top;\n",
       "    }\n",
       "\n",
       "    .dataframe thead th {\n",
       "        text-align: right;\n",
       "    }\n",
       "</style>\n",
       "<table border=\"1\" class=\"dataframe\">\n",
       "  <thead>\n",
       "    <tr style=\"text-align: right;\">\n",
       "      <th></th>\n",
       "      <th>No1</th>\n",
       "      <th>No2</th>\n",
       "      <th>No3</th>\n",
       "      <th>No4</th>\n",
       "      <th>Category</th>\n",
       "    </tr>\n",
       "  </thead>\n",
       "  <tbody>\n",
       "    <tr>\n",
       "      <th>0</th>\n",
       "      <td>-0.210793</td>\n",
       "      <td>-0.518460</td>\n",
       "      <td>0.715929</td>\n",
       "      <td>-1.617862</td>\n",
       "      <td>C2</td>\n",
       "    </tr>\n",
       "    <tr>\n",
       "      <th>1</th>\n",
       "      <td>1.026097</td>\n",
       "      <td>0.464711</td>\n",
       "      <td>-0.773828</td>\n",
       "      <td>1.219992</td>\n",
       "      <td>C1</td>\n",
       "    </tr>\n",
       "    <tr>\n",
       "      <th>2</th>\n",
       "      <td>-2.067314</td>\n",
       "      <td>-0.255736</td>\n",
       "      <td>0.464411</td>\n",
       "      <td>-1.272690</td>\n",
       "      <td>C2</td>\n",
       "    </tr>\n",
       "    <tr>\n",
       "      <th>3</th>\n",
       "      <td>0.124274</td>\n",
       "      <td>-1.587399</td>\n",
       "      <td>0.474326</td>\n",
       "      <td>0.323018</td>\n",
       "      <td>C2</td>\n",
       "    </tr>\n",
       "    <tr>\n",
       "      <th>4</th>\n",
       "      <td>0.575166</td>\n",
       "      <td>-1.549705</td>\n",
       "      <td>-1.186413</td>\n",
       "      <td>1.872610</td>\n",
       "      <td>C3</td>\n",
       "    </tr>\n",
       "    <tr>\n",
       "      <th>5</th>\n",
       "      <td>-1.656830</td>\n",
       "      <td>0.721160</td>\n",
       "      <td>-0.965723</td>\n",
       "      <td>1.276203</td>\n",
       "      <td>C2</td>\n",
       "    </tr>\n",
       "    <tr>\n",
       "      <th>6</th>\n",
       "      <td>-1.525263</td>\n",
       "      <td>0.539800</td>\n",
       "      <td>-0.699614</td>\n",
       "      <td>1.208192</td>\n",
       "      <td>C1</td>\n",
       "    </tr>\n",
       "    <tr>\n",
       "      <th>7</th>\n",
       "      <td>-0.341133</td>\n",
       "      <td>-0.950700</td>\n",
       "      <td>-0.498243</td>\n",
       "      <td>-1.635750</td>\n",
       "      <td>C2</td>\n",
       "    </tr>\n",
       "    <tr>\n",
       "      <th>8</th>\n",
       "      <td>-0.597655</td>\n",
       "      <td>1.911860</td>\n",
       "      <td>1.455107</td>\n",
       "      <td>-0.316692</td>\n",
       "      <td>C3</td>\n",
       "    </tr>\n",
       "    <tr>\n",
       "      <th>9</th>\n",
       "      <td>1.060322</td>\n",
       "      <td>0.446582</td>\n",
       "      <td>-0.012720</td>\n",
       "      <td>0.824608</td>\n",
       "      <td>C1</td>\n",
       "    </tr>\n",
       "  </tbody>\n",
       "</table>\n",
       "</div>"
      ],
      "text/plain": [
       "        No1       No2       No3       No4 Category\n",
       "0 -0.210793 -0.518460  0.715929 -1.617862       C2\n",
       "1  1.026097  0.464711 -0.773828  1.219992       C1\n",
       "2 -2.067314 -0.255736  0.464411 -1.272690       C2\n",
       "3  0.124274 -1.587399  0.474326  0.323018       C2\n",
       "4  0.575166 -1.549705 -1.186413  1.872610       C3\n",
       "5 -1.656830  0.721160 -0.965723  1.276203       C2\n",
       "6 -1.525263  0.539800 -0.699614  1.208192       C1\n",
       "7 -0.341133 -0.950700 -0.498243 -1.635750       C2\n",
       "8 -0.597655  1.911860  1.455107 -0.316692       C3\n",
       "9  1.060322  0.446582 -0.012720  0.824608       C1"
      ]
     },
     "execution_count": 39,
     "metadata": {},
     "output_type": "execute_result"
    }
   ],
   "source": [
    "df"
   ]
  },
  {
   "cell_type": "code",
   "execution_count": 40,
   "metadata": {},
   "outputs": [],
   "source": [
    "groups = df.groupby('Category')"
   ]
  },
  {
   "cell_type": "code",
   "execution_count": 41,
   "metadata": {},
   "outputs": [
    {
     "data": {
      "text/plain": [
       "<pandas.core.groupby.groupby.DataFrameGroupBy object at 0x015CF910>"
      ]
     },
     "execution_count": 41,
     "metadata": {},
     "output_type": "execute_result"
    }
   ],
   "source": [
    "groups"
   ]
  },
  {
   "cell_type": "code",
   "execution_count": 42,
   "metadata": {},
   "outputs": [
    {
     "data": {
      "text/html": [
       "<div>\n",
       "<style scoped>\n",
       "    .dataframe tbody tr th:only-of-type {\n",
       "        vertical-align: middle;\n",
       "    }\n",
       "\n",
       "    .dataframe tbody tr th {\n",
       "        vertical-align: top;\n",
       "    }\n",
       "\n",
       "    .dataframe thead th {\n",
       "        text-align: right;\n",
       "    }\n",
       "</style>\n",
       "<table border=\"1\" class=\"dataframe\">\n",
       "  <thead>\n",
       "    <tr style=\"text-align: right;\">\n",
       "      <th></th>\n",
       "      <th>No1</th>\n",
       "      <th>No2</th>\n",
       "      <th>No3</th>\n",
       "      <th>No4</th>\n",
       "    </tr>\n",
       "    <tr>\n",
       "      <th>Category</th>\n",
       "      <th></th>\n",
       "      <th></th>\n",
       "      <th></th>\n",
       "      <th></th>\n",
       "    </tr>\n",
       "  </thead>\n",
       "  <tbody>\n",
       "    <tr>\n",
       "      <th>C1</th>\n",
       "      <td>0.187052</td>\n",
       "      <td>0.483697</td>\n",
       "      <td>-0.495388</td>\n",
       "      <td>1.084264</td>\n",
       "    </tr>\n",
       "    <tr>\n",
       "      <th>C2</th>\n",
       "      <td>-0.830359</td>\n",
       "      <td>-0.518227</td>\n",
       "      <td>0.038140</td>\n",
       "      <td>-0.585416</td>\n",
       "    </tr>\n",
       "    <tr>\n",
       "      <th>C3</th>\n",
       "      <td>-0.011245</td>\n",
       "      <td>0.181077</td>\n",
       "      <td>0.134347</td>\n",
       "      <td>0.777959</td>\n",
       "    </tr>\n",
       "  </tbody>\n",
       "</table>\n",
       "</div>"
      ],
      "text/plain": [
       "               No1       No2       No3       No4\n",
       "Category                                        \n",
       "C1        0.187052  0.483697 -0.495388  1.084264\n",
       "C2       -0.830359 -0.518227  0.038140 -0.585416\n",
       "C3       -0.011245  0.181077  0.134347  0.777959"
      ]
     },
     "execution_count": 42,
     "metadata": {},
     "output_type": "execute_result"
    }
   ],
   "source": [
    "groups.mean()"
   ]
  },
  {
   "cell_type": "code",
   "execution_count": null,
   "metadata": {},
   "outputs": [],
   "source": []
  }
 ],
 "metadata": {
  "anaconda-cloud": {},
  "kernelspec": {
   "display_name": "Python 3",
   "language": "python",
   "name": "python3"
  },
  "language_info": {
   "codemirror_mode": {
    "name": "ipython",
    "version": 3
   },
   "file_extension": ".py",
   "mimetype": "text/x-python",
   "name": "python",
   "nbconvert_exporter": "python",
   "pygments_lexer": "ipython3",
   "version": "3.6.6"
  }
 },
 "nbformat": 4,
 "nbformat_minor": 1
}
