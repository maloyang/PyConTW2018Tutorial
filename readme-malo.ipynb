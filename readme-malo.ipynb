{
 "cells": [
  {
   "cell_type": "markdown",
   "metadata": {},
   "source": [
    "# 01. data analysis\n",
    "\n",
    "### 01. Numpy 簡介\n",
    "\n",
    "ok\n",
    "\n",
    "### 02. MatPlotLib 簡介\n",
    "\n",
    "ok\n",
    "\n",
    "### 03. Pandas 簡介\n",
    "\n",
    "- `import pandas_datareader.data as web` 這一行會出錯，改加上二行就ok"
   ]
  },
  {
   "cell_type": "code",
   "execution_count": null,
   "metadata": {},
   "outputs": [],
   "source": [
    "# 網路上有人提到在使用pandas_datareader前加入這一行，果然可以\n",
    "# ref: https://stackoverflow.com/questions/50394873/import-pandas-datareader-gives-importerror-cannot-import-name-is-list-like\n",
    "import pandas as pd\n",
    "pd.core.common.is_list_like = pd.api.types.is_list_like"
   ]
  },
  {
   "cell_type": "markdown",
   "metadata": {},
   "source": [
    "----\n",
    "\n",
    "# 02. spider\n",
    "\n",
    "### requests 及  beautifulsoup 的使用教學\n",
    "\n",
    "ok\n",
    "\n",
    "### 使用 Pandas 抓取網路資料\n",
    "\n",
    "ok\n"
   ]
  },
  {
   "cell_type": "markdown",
   "metadata": {},
   "source": [
    "----\n",
    "\n",
    "# 03. picking stocks\n",
    "\n",
    "### 利用資本額選擇公司\n",
    "\n",
    "ok\n",
    "\n",
    "### 月營收選股\n",
    "\n",
    "ok\n",
    "\n",
    "### 波動率選股\n",
    "\n",
    "修改幾個問題後 ok\n",
    "\n",
    "- 死在 web.DataReader(\"FSLR\", 'google', datetime(2016,1,1))\n",
    "- import pandas_datareader.data as web 問題同前面\n",
    "\n",
    "### 財報選股\n",
    "\n",
    "ok"
   ]
  },
  {
   "cell_type": "markdown",
   "metadata": {},
   "source": [
    "----\n",
    "\n",
    "# 04. technical analysis\n",
    "\n",
    "### 抓台股股價資料然後存放到硬碟上\n",
    "\n",
    "ok\n",
    "\n",
    "### 抓股價資料然後存放到硬碟上\n",
    "\n",
    "修改後ok\n",
    "\n",
    "- import pandas_datareader.data as web 有問題\n",
    "- web.DataReader(symbol, 'yahoo', datetime(2016, 1, 1)) 有問題\n",
    "\n",
    "### 測試 TA-Lib\n",
    "\n",
    "- import ta-lib 正常\n",
    "- import pandas_datareader.data as web 有問題\n",
    "- 修正讀股價的部份後已OK\n",
    "- 有時會發生access太多次不給讀的情形，只能換個IP處理\n"
   ]
  },
  {
   "cell_type": "markdown",
   "metadata": {},
   "source": [
    "----\n",
    "\n",
    "# 05. backtest\n",
    "\n",
    "### 回測\n",
    "\n",
    "- import pandas_datareader.data as web 問題同前面\n",
    "- 只有在畫kchar時有些warning\n",
    "\n"
   ]
  },
  {
   "cell_type": "markdown",
   "metadata": {},
   "source": [
    "----\n",
    "\n",
    "# 06. strategies\n",
    "\n",
    "### 進出場策略\n",
    "\n",
    "- 修正讀股價的部份就正常\n"
   ]
  },
  {
   "cell_type": "markdown",
   "metadata": {},
   "source": [
    "# 07. system\n",
    "\n",
    "### 單策略多股票分析\n",
    "\n",
    "- 修正 import ffn 問題後就ok (同樣是 `pd.core.common.is_list_like = pd.api.types.is_list_like` 問題)\n",
    "\n",
    "### 多策略多股票分析\n",
    "\n",
    "- 修正 import ffn 問題後就ok (同樣是 `pd.core.common.is_list_like = pd.api.types.is_list_like` 問題)\n"
   ]
  },
  {
   "cell_type": "markdown",
   "metadata": {},
   "source": [
    "\n",
    "----\n",
    "\n",
    "Malo Test\n",
    "\n",
    "----\n"
   ]
  },
  {
   "cell_type": "code",
   "execution_count": 1,
   "metadata": {},
   "outputs": [],
   "source": [
    "# 網路上有人提到在使用pandas_datareader前加入這一行，果然可以\n",
    "# ref: https://stackoverflow.com/questions/50394873/import-pandas-datareader-gives-importerror-cannot-import-name-is-list-like\n",
    "import pandas as pd\n",
    "pd.core.common.is_list_like = pd.api.types.is_list_like\n",
    "\n",
    "import ffn\n",
    "\n",
    "%matplotlib inline\n",
    "\n",
    "import pandas_datareader.data as web\n",
    "import pandas as pd\n",
    "from pandas import Series, DataFrame\n",
    "\n",
    "import matplotlib.pyplot as plt\n",
    "import numpy as np\n",
    "\n",
    "from datetime import datetime"
   ]
  },
  {
   "cell_type": "code",
   "execution_count": 2,
   "metadata": {},
   "outputs": [],
   "source": [
    "s = pd.Series([90, 91, 85])"
   ]
  },
  {
   "cell_type": "code",
   "execution_count": 3,
   "metadata": {},
   "outputs": [
    {
     "data": {
      "text/plain": [
       "0         NaN\n",
       "1    0.011111\n",
       "2   -0.065934\n",
       "dtype: float64"
      ]
     },
     "execution_count": 3,
     "metadata": {},
     "output_type": "execute_result"
    }
   ],
   "source": [
    "s.pct_change()"
   ]
  },
  {
   "cell_type": "code",
   "execution_count": 6,
   "metadata": {},
   "outputs": [
    {
     "data": {
      "text/plain": [
       "0.011111111111111112"
      ]
     },
     "execution_count": 6,
     "metadata": {},
     "output_type": "execute_result"
    }
   ],
   "source": [
    "(91-90)/90"
   ]
  },
  {
   "cell_type": "code",
   "execution_count": null,
   "metadata": {},
   "outputs": [],
   "source": []
  }
 ],
 "metadata": {
  "kernelspec": {
   "display_name": "Python 3",
   "language": "python",
   "name": "python3"
  },
  "language_info": {
   "codemirror_mode": {
    "name": "ipython",
    "version": 3
   },
   "file_extension": ".py",
   "mimetype": "text/x-python",
   "name": "python",
   "nbconvert_exporter": "python",
   "pygments_lexer": "ipython3",
   "version": "3.6.6"
  }
 },
 "nbformat": 4,
 "nbformat_minor": 2
}
